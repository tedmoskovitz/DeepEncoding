{
 "cells": [
  {
   "cell_type": "code",
   "execution_count": 46,
   "metadata": {},
   "outputs": [],
   "source": [
    "import numpy as np\n",
    "import matplotlib.pyplot as plt\n",
    "import scipy.io as spio \n",
    "import h5py\n",
    "from v1_data import V1\n",
    "import os\n",
    "import os.path\n",
    "from time import time\n",
    "import nonlinearity as nl\n",
    "\n",
    "import tensorflow as tf\n",
    "from keras.models import Sequential, load_model\n",
    "from keras.layers import Dense, Dropout, Activation, BatchNormalization, GRU, CuDNNLSTM, Flatten, LSTM, Conv1D, GlobalAveragePooling1D, SimpleRNN, MaxPooling1D\n",
    "from keras.optimizers import RMSprop, SGD, Adam\n",
    "from keras.constraints import maxnorm\n",
    "from keras.callbacks import EarlyStopping, TensorBoard\n",
    "import time \n",
    "from keras import backend as K\n",
    "\n",
    "from tf_utils import neglogli, poiss_full, get_bps, r2, restore_performance_checkpt, color, get_nn_model\n",
    "#from nn_models import gen_fc_model, gen_rnn_model, gen_cnn_model, gen_ES_model\n",
    "\n",
    "# set plots inside notebook\n",
    "%matplotlib inline\n",
    "plt.rcParams['figure.figsize'] = (12.0, 9.0) # set default size of plots\n",
    "plt.rcParams['image.interpolation'] = 'nearest'\n",
    "plt.rcParams['image.cmap'] = 'gray'\n",
    "plt.rcParams['font.size'] = 18\n",
    "\n",
    "N_COMPLEX = len(os.listdir('./RustV1/complex/data/'))\n",
    "N_SIMPLE = len(os.listdir('./RustV1/simple/data/'))\n",
    "cell_nums = {'simple':N_SIMPLE, 'complex':N_COMPLEX}"
   ]
  },
  {
   "cell_type": "code",
   "execution_count": 99,
   "metadata": {},
   "outputs": [],
   "source": [
    "def istac_init(shape, dtype=None):\n",
    "    \"\"\"\n",
    "    Initialize the input kernel for an RNN with iSTAC filters. \n",
    "    \n",
    "    Args: \n",
    "        shape: kernel shape (cell # hidden in 3rd position)\n",
    "        dtype: datatype \n",
    "    \n",
    "    Returns:\n",
    "        init: iSTAC initialization\n",
    "    \"\"\"\n",
    "    stim_dim, n_filts = shape\n",
    "    path = 'SavedFilters/simple_istac_filters_cell1.csv'\n",
    "    filts = np.genfromtxt(path, delimiter=',').reshape(16,16,7, order='F')\n",
    "    print (filts.shape)\n",
    "    filts = filts[:,:,1].reshape(16,16,1)\n",
    "    #filts = filts.reshape(16,16,-1, order='F')\n",
    "    return filts.astype(dtype)"
   ]
  },
  {
   "cell_type": "code",
   "execution_count": 100,
   "metadata": {},
   "outputs": [],
   "source": [
    "def gen_rnn_model(H, dim=20, L=0, n_frames=16, verbose=True, use_cudnn=True, vanilla=False, LNP=0):\n",
    "    \"\"\"\n",
    "    Generate a single-layer recurrent network.\n",
    "    \n",
    "    Args: \n",
    "        dim: stimulus (input) dimension\n",
    "        n_frames: frames of history to consider\n",
    "        verbose: whether to print a model summary\n",
    "        use_cudnn: whether to use CuDNNLSTM layer, optimized for training on a GPU\n",
    "        LNP: input filters; using 0 results in a standard DNN\n",
    "        \n",
    "    Returns: \n",
    "        model: compiled Keras model\n",
    "    \"\"\"\n",
    "    model = Sequential()\n",
    "    if L == 0: ret_seqs = False;\n",
    "    else: ret_seqs = True;\n",
    "        \n",
    "    if use_cudnn: rnn = CuDNNLSTM;\n",
    "    else: rnn = LSTM;\n",
    "    \n",
    "    if vanilla: rnn = SimpleRNN; \n",
    "        \n",
    "    if LNP > 0: \n",
    "        model.add(rnn(H, input_shape=(n_frames, dim),\n",
    "                      kernel_initializer=istac_init, return_sequences=ret_seqs))\n",
    "    else: \n",
    "        model.add(rnn(H, input_shape=(n_frames, dim), return_sequences=ret_seqs))\n",
    "        model.add(rnn(H, input_shape=(n_frames, dim), return_sequences=False))\n",
    "    \n",
    "    model.add(Dense(1, activation='softplus'))\n",
    "    # rnn activation='softplus'\n",
    "    \n",
    "    if verbose:\n",
    "        model.summary()\n",
    "    \n",
    "    adam = Adam(lr=.0005, decay=1e-6)\n",
    "\n",
    "    model.compile(loss=poiss_full, optimizer=adam) \n",
    "    return model #3025"
   ]
  },
  {
   "cell_type": "code",
   "execution_count": 140,
   "metadata": {},
   "outputs": [],
   "source": [
    "ln_fs = [1,2,3,4,5,6,7]\n",
    "ln_fs = [35]\n",
    "\n",
    "h_layers_rnn = [2]\n",
    "h_sizes_rnn = ln_fs\n",
    "\n",
    "# dictionary of hyperparameters\n",
    "hparams = {'rnn':{'h_layers':h_layers_rnn, 'h_sizes':h_sizes_rnn,\n",
    "                  'ndepths':len(h_layers_rnn), 'nwidths':len(h_sizes_rnn)}}"
   ]
  },
  {
   "cell_type": "code",
   "execution_count": 141,
   "metadata": {
    "scrolled": true
   },
   "outputs": [
    {
     "name": "stdout",
     "output_type": "stream",
     "text": [
      "building data...\n",
      "fetching repeat data...\n",
      "done.\n",
      "building data...\n",
      "fetching repeat data...\n",
      "done.\n",
      "============================================================\n",
      "\u001b[1mTraining Model on Cell 4 of 9 with depth of 2 and width of 35\u001b[0m\n",
      "_________________________________________________________________\n",
      "Layer (type)                 Output Shape              Param #   \n",
      "=================================================================\n",
      "simple_rnn_51 (SimpleRNN)    (None, 16, 35)            1820      \n",
      "_________________________________________________________________\n",
      "dense_39 (Dense)             (None, 16, 1)             36        \n",
      "=================================================================\n",
      "Total params: 1,856\n",
      "Trainable params: 1,856\n",
      "Non-trainable params: 0\n",
      "_________________________________________________________________\n",
      "Train on 229364 samples, validate on 32766 samples\n",
      "Epoch 1/15\n"
     ]
    },
    {
     "ename": "ValueError",
     "evalue": "Cannot feed value of shape (50, 1) for Tensor 'dense_39_target:0', which has shape '(?, ?, ?)'",
     "output_type": "error",
     "traceback": [
      "\u001b[0;31m---------------------------------------------------------------------------\u001b[0m",
      "\u001b[0;31mValueError\u001b[0m                                Traceback (most recent call last)",
      "\u001b[0;32m<ipython-input-141-138525b5a5d4>\u001b[0m in \u001b[0;36m<module>\u001b[0;34m()\u001b[0m\n\u001b[1;32m     58\u001b[0m                 \u001b[0;31m# fit model\u001b[0m\u001b[0;34m\u001b[0m\u001b[0;34m\u001b[0m\u001b[0m\n\u001b[1;32m     59\u001b[0m                 hist = model.fit(v1.X_train, v1.y_train, batch_size=50, epochs=15, \n\u001b[0;32m---> 60\u001b[0;31m                                  verbose=1, callbacks=None, validation_data=(v1.X_val, v1.y_val)) #10+L*4\n\u001b[0m\u001b[1;32m     61\u001b[0m                 \u001b[0mtime\u001b[0m\u001b[0;34m.\u001b[0m\u001b[0msleep\u001b[0m\u001b[0;34m(\u001b[0m\u001b[0;36m0.1\u001b[0m\u001b[0;34m)\u001b[0m\u001b[0;34m\u001b[0m\u001b[0m\n\u001b[1;32m     62\u001b[0m \u001b[0;34m\u001b[0m\u001b[0m\n",
      "\u001b[0;32m/Library/Frameworks/Python.framework/Versions/3.6/lib/python3.6/site-packages/keras/models.py\u001b[0m in \u001b[0;36mfit\u001b[0;34m(self, x, y, batch_size, epochs, verbose, callbacks, validation_split, validation_data, shuffle, class_weight, sample_weight, initial_epoch, **kwargs)\u001b[0m\n\u001b[1;32m    891\u001b[0m                               \u001b[0mclass_weight\u001b[0m\u001b[0;34m=\u001b[0m\u001b[0mclass_weight\u001b[0m\u001b[0;34m,\u001b[0m\u001b[0;34m\u001b[0m\u001b[0m\n\u001b[1;32m    892\u001b[0m                               \u001b[0msample_weight\u001b[0m\u001b[0;34m=\u001b[0m\u001b[0msample_weight\u001b[0m\u001b[0;34m,\u001b[0m\u001b[0;34m\u001b[0m\u001b[0m\n\u001b[0;32m--> 893\u001b[0;31m                               initial_epoch=initial_epoch)\n\u001b[0m\u001b[1;32m    894\u001b[0m \u001b[0;34m\u001b[0m\u001b[0m\n\u001b[1;32m    895\u001b[0m     def evaluate(self, x, y, batch_size=32, verbose=1,\n",
      "\u001b[0;32m/Library/Frameworks/Python.framework/Versions/3.6/lib/python3.6/site-packages/keras/engine/training.py\u001b[0m in \u001b[0;36mfit\u001b[0;34m(self, x, y, batch_size, epochs, verbose, callbacks, validation_split, validation_data, shuffle, class_weight, sample_weight, initial_epoch, steps_per_epoch, validation_steps, **kwargs)\u001b[0m\n\u001b[1;32m   1629\u001b[0m                               \u001b[0minitial_epoch\u001b[0m\u001b[0;34m=\u001b[0m\u001b[0minitial_epoch\u001b[0m\u001b[0;34m,\u001b[0m\u001b[0;34m\u001b[0m\u001b[0m\n\u001b[1;32m   1630\u001b[0m                               \u001b[0msteps_per_epoch\u001b[0m\u001b[0;34m=\u001b[0m\u001b[0msteps_per_epoch\u001b[0m\u001b[0;34m,\u001b[0m\u001b[0;34m\u001b[0m\u001b[0m\n\u001b[0;32m-> 1631\u001b[0;31m                               validation_steps=validation_steps)\n\u001b[0m\u001b[1;32m   1632\u001b[0m \u001b[0;34m\u001b[0m\u001b[0m\n\u001b[1;32m   1633\u001b[0m     def evaluate(self, x=None, y=None,\n",
      "\u001b[0;32m/Library/Frameworks/Python.framework/Versions/3.6/lib/python3.6/site-packages/keras/engine/training.py\u001b[0m in \u001b[0;36m_fit_loop\u001b[0;34m(self, f, ins, out_labels, batch_size, epochs, verbose, callbacks, val_f, val_ins, shuffle, callback_metrics, initial_epoch, steps_per_epoch, validation_steps)\u001b[0m\n\u001b[1;32m   1211\u001b[0m                     \u001b[0mbatch_logs\u001b[0m\u001b[0;34m[\u001b[0m\u001b[0;34m'size'\u001b[0m\u001b[0;34m]\u001b[0m \u001b[0;34m=\u001b[0m \u001b[0mlen\u001b[0m\u001b[0;34m(\u001b[0m\u001b[0mbatch_ids\u001b[0m\u001b[0;34m)\u001b[0m\u001b[0;34m\u001b[0m\u001b[0m\n\u001b[1;32m   1212\u001b[0m                     \u001b[0mcallbacks\u001b[0m\u001b[0;34m.\u001b[0m\u001b[0mon_batch_begin\u001b[0m\u001b[0;34m(\u001b[0m\u001b[0mbatch_index\u001b[0m\u001b[0;34m,\u001b[0m \u001b[0mbatch_logs\u001b[0m\u001b[0;34m)\u001b[0m\u001b[0;34m\u001b[0m\u001b[0m\n\u001b[0;32m-> 1213\u001b[0;31m                     \u001b[0mouts\u001b[0m \u001b[0;34m=\u001b[0m \u001b[0mf\u001b[0m\u001b[0;34m(\u001b[0m\u001b[0mins_batch\u001b[0m\u001b[0;34m)\u001b[0m\u001b[0;34m\u001b[0m\u001b[0m\n\u001b[0m\u001b[1;32m   1214\u001b[0m                     \u001b[0;32mif\u001b[0m \u001b[0;32mnot\u001b[0m \u001b[0misinstance\u001b[0m\u001b[0;34m(\u001b[0m\u001b[0mouts\u001b[0m\u001b[0;34m,\u001b[0m \u001b[0mlist\u001b[0m\u001b[0;34m)\u001b[0m\u001b[0;34m:\u001b[0m\u001b[0;34m\u001b[0m\u001b[0m\n\u001b[1;32m   1215\u001b[0m                         \u001b[0mouts\u001b[0m \u001b[0;34m=\u001b[0m \u001b[0;34m[\u001b[0m\u001b[0mouts\u001b[0m\u001b[0;34m]\u001b[0m\u001b[0;34m\u001b[0m\u001b[0m\n",
      "\u001b[0;32m/Library/Frameworks/Python.framework/Versions/3.6/lib/python3.6/site-packages/keras/backend/tensorflow_backend.py\u001b[0m in \u001b[0;36m__call__\u001b[0;34m(self, inputs)\u001b[0m\n\u001b[1;32m   2330\u001b[0m         updated = session.run(self.outputs + [self.updates_op],\n\u001b[1;32m   2331\u001b[0m                               \u001b[0mfeed_dict\u001b[0m\u001b[0;34m=\u001b[0m\u001b[0mfeed_dict\u001b[0m\u001b[0;34m,\u001b[0m\u001b[0;34m\u001b[0m\u001b[0m\n\u001b[0;32m-> 2332\u001b[0;31m                               **self.session_kwargs)\n\u001b[0m\u001b[1;32m   2333\u001b[0m         \u001b[0;32mreturn\u001b[0m \u001b[0mupdated\u001b[0m\u001b[0;34m[\u001b[0m\u001b[0;34m:\u001b[0m\u001b[0mlen\u001b[0m\u001b[0;34m(\u001b[0m\u001b[0mself\u001b[0m\u001b[0;34m.\u001b[0m\u001b[0moutputs\u001b[0m\u001b[0;34m)\u001b[0m\u001b[0;34m]\u001b[0m\u001b[0;34m\u001b[0m\u001b[0m\n\u001b[1;32m   2334\u001b[0m \u001b[0;34m\u001b[0m\u001b[0m\n",
      "\u001b[0;32m/Library/Frameworks/Python.framework/Versions/3.6/lib/python3.6/site-packages/tensorflow/python/client/session.py\u001b[0m in \u001b[0;36mrun\u001b[0;34m(self, fetches, feed_dict, options, run_metadata)\u001b[0m\n\u001b[1;32m    887\u001b[0m     \u001b[0;32mtry\u001b[0m\u001b[0;34m:\u001b[0m\u001b[0;34m\u001b[0m\u001b[0m\n\u001b[1;32m    888\u001b[0m       result = self._run(None, fetches, feed_dict, options_ptr,\n\u001b[0;32m--> 889\u001b[0;31m                          run_metadata_ptr)\n\u001b[0m\u001b[1;32m    890\u001b[0m       \u001b[0;32mif\u001b[0m \u001b[0mrun_metadata\u001b[0m\u001b[0;34m:\u001b[0m\u001b[0;34m\u001b[0m\u001b[0m\n\u001b[1;32m    891\u001b[0m         \u001b[0mproto_data\u001b[0m \u001b[0;34m=\u001b[0m \u001b[0mtf_session\u001b[0m\u001b[0;34m.\u001b[0m\u001b[0mTF_GetBuffer\u001b[0m\u001b[0;34m(\u001b[0m\u001b[0mrun_metadata_ptr\u001b[0m\u001b[0;34m)\u001b[0m\u001b[0;34m\u001b[0m\u001b[0m\n",
      "\u001b[0;32m/Library/Frameworks/Python.framework/Versions/3.6/lib/python3.6/site-packages/tensorflow/python/client/session.py\u001b[0m in \u001b[0;36m_run\u001b[0;34m(self, handle, fetches, feed_dict, options, run_metadata)\u001b[0m\n\u001b[1;32m   1094\u001b[0m                 \u001b[0;34m'Cannot feed value of shape %r for Tensor %r, '\u001b[0m\u001b[0;34m\u001b[0m\u001b[0m\n\u001b[1;32m   1095\u001b[0m                 \u001b[0;34m'which has shape %r'\u001b[0m\u001b[0;34m\u001b[0m\u001b[0m\n\u001b[0;32m-> 1096\u001b[0;31m                 % (np_val.shape, subfeed_t.name, str(subfeed_t.get_shape())))\n\u001b[0m\u001b[1;32m   1097\u001b[0m           \u001b[0;32mif\u001b[0m \u001b[0;32mnot\u001b[0m \u001b[0mself\u001b[0m\u001b[0;34m.\u001b[0m\u001b[0mgraph\u001b[0m\u001b[0;34m.\u001b[0m\u001b[0mis_feedable\u001b[0m\u001b[0;34m(\u001b[0m\u001b[0msubfeed_t\u001b[0m\u001b[0;34m)\u001b[0m\u001b[0;34m:\u001b[0m\u001b[0;34m\u001b[0m\u001b[0m\n\u001b[1;32m   1098\u001b[0m             \u001b[0;32mraise\u001b[0m \u001b[0mValueError\u001b[0m\u001b[0;34m(\u001b[0m\u001b[0;34m'Tensor %s may not be fed.'\u001b[0m \u001b[0;34m%\u001b[0m \u001b[0msubfeed_t\u001b[0m\u001b[0;34m)\u001b[0m\u001b[0;34m\u001b[0m\u001b[0m\n",
      "\u001b[0;31mValueError\u001b[0m: Cannot feed value of shape (50, 1) for Tensor 'dense_39_target:0', which has shape '(?, ?, ?)'"
     ]
    }
   ],
   "source": [
    "# model settings\n",
    "celltype = 'complex'\n",
    "model_type = 'rnn'\n",
    "plot = False \n",
    "gen_psth = False\n",
    "save_model = False\n",
    "save_perf = False \n",
    "restore_frm_chkpt = False\n",
    "v1 = V1(celltype, 1)\n",
    "\n",
    "ndepths = hparams[model_type]['ndepths']\n",
    "nwidths = hparams[model_type]['nwidths']\n",
    "nfilts = len(ln_fs)\n",
    "\n",
    "performance_bps = np.zeros([ndepths, nwidths, cell_nums[celltype]])\n",
    "performance_r2 = np.zeros([ndepths, nwidths, cell_nums[celltype]])\n",
    "filter_bps = np.zeros([nfilts])\n",
    "filter_r2 = np.zeros([nfilts])\n",
    "best_r2 = -1.\n",
    "best_bps = -1.\n",
    "\n",
    "# can choose to restore performance checkpoint\n",
    "if restore_frm_chkpt:\n",
    "    print (color.BOLD + 'loading checkpoint...' + color.END)\n",
    "    performance_bps = restore_performance_checkpt('./SavedResults/' + celltype \\\n",
    "                                                  + '_rnn_bps.csv')\n",
    "    performance_bps = performance_bps.reshape(ndepths, nwidths, cell_nums[celltype])\n",
    "    best_bps = np.max(performance_bps)\n",
    "    \n",
    "    performance_r2 = restore_performance_checkpt('./SavedResults/' + celltype \\\n",
    "                                                 + '_rnn_r2.csv')\n",
    "    performance_r2 = performance_r2.reshape(ndepths, nwidths, cell_nums[celltype])\n",
    "    best_r2 = np.max(performance_r2)\n",
    "    \n",
    "\n",
    "# define early stopping callback - UNUSED currently\n",
    "earlystop = EarlyStopping(monitor='val_loss', patience=3, min_delta=.1, verbose=1, mode='auto')\n",
    "callbacks_list = [earlystop]\n",
    "\n",
    "# model type\n",
    "gen_model = {'fc':gen_fc_model, 'rnn':gen_rnn_model, 'cnn':gen_cnn_model}\n",
    "\n",
    "# data format\n",
    "flatten = False\n",
    "\n",
    "k = 0\n",
    "for cell_num in [3]:#range(cell_nums[celltype]):\n",
    "    v1 = V1(celltype, cell_num+1, flatten=flatten);\n",
    "    i = 0\n",
    "    for L in hparams[model_type]['h_layers']:\n",
    "        j = 0\n",
    "        for H in hparams[model_type]['h_sizes']:\n",
    "            if performance_bps[i,j,k] == 0.: # avoid redundancy\n",
    "                print (\"============================================================\")\n",
    "                print (color.BOLD + \"Training Model on Cell \" + str(cell_num+1) + \" of \" + str(cell_nums[celltype])  \\\n",
    "                       + \" with depth of \" + str(L) + \" and width of \" + str(H) + color.END) \n",
    "                # generate model\n",
    "                model = gen_rnn_model(H, L=1, dim=v1.X_train.shape[-1], use_cudnn=False,\n",
    "                                      vanilla=True, LNP=0)\n",
    "\n",
    "                # fit model\n",
    "                hist = model.fit(v1.X_train, v1.y_train, batch_size=50, epochs=15, \n",
    "                                 verbose=1, callbacks=None, validation_data=(v1.X_val, v1.y_val)) #10+L*4\n",
    "                time.sleep(0.1)\n",
    "\n",
    "                # evaluate performance\n",
    "                bps,_ = get_bps(model, v1)\n",
    "                _, rsq = r2(model.predict(v1.X_test).reshape(-1,), v1.y_test.reshape(-1,))\n",
    "\n",
    "                if bps > best_bps and save_model:\n",
    "                    best_bps = bps\n",
    "                    print (color.PURPLE + 'saving new bps model...' + color.END)\n",
    "                    model.save('SavedModels/' + celltype + '_best_' + model_type + '_bps.h5')\n",
    "\n",
    "                if rsq > best_r2 and save_model:\n",
    "                    best_r2 = rsq\n",
    "                    print (color.PURPLE + 'saving new r2 model...' + color.END)\n",
    "                    model.save('SavedModels/' + celltype + '_best_' + model_type + '_r2.h5')\n",
    "\n",
    "                performance_bps[i,j,k] = bps\n",
    "                performance_r2[i,j,k] = rsq\n",
    "\n",
    "                # generate a PSTH using the current cell's repeat data, if desired\n",
    "                if gen_psth:\n",
    "                    rpt_preds = model.predict(v1.X_rpt)\n",
    "                    model_psth = v1.convert_nn_psth(rpt_preds)\n",
    "\n",
    "                    if plot:\n",
    "                        plt.plot(model_psth, label='nn')\n",
    "                        plt.plot(v1.psth, label='repeat')\n",
    "                        plt.legend()\n",
    "                        plt.xlabel('Time (ms)')\n",
    "                        plt.ylabel('Rate (sp/s)')\n",
    "                        plt.show()\n",
    "\n",
    "\n",
    "                print (\"bps: \", bps)\n",
    "                print (\"r2: \", rsq)\n",
    "                print (\" \")\n",
    "\n",
    "\n",
    "            j += 1\n",
    "            \n",
    "            if save_perf: \n",
    "                print (color.BOLD + 'saving checkpoint...\\n' + color.END)\n",
    "                np.savetxt('./SavedResults/filt_' + celltype + '_' + model_type \\\n",
    "                           + '_bps.csv', performance_bps.reshape(-1,1), delimiter=',')\n",
    "                np.savetxt('./SavedResults/filt_' + celltype + '_' + model_type \\\n",
    "                           + '_r2.csv', performance_r2.reshape(-1,1), delimiter=',')\n",
    "        i += 1\n",
    "    k += 1\n",
    "\n"
   ]
  },
  {
   "cell_type": "code",
   "execution_count": 127,
   "metadata": {},
   "outputs": [],
   "source": [
    "w = model.get_weights()"
   ]
  },
  {
   "cell_type": "code",
   "execution_count": 128,
   "metadata": {},
   "outputs": [
    {
     "data": {
      "text/plain": [
       "5"
      ]
     },
     "execution_count": 128,
     "metadata": {},
     "output_type": "execute_result"
    }
   ],
   "source": [
    "len(w)"
   ]
  },
  {
   "cell_type": "code",
   "execution_count": 129,
   "metadata": {},
   "outputs": [
    {
     "data": {
      "text/plain": [
       "(16, 25)"
      ]
     },
     "execution_count": 129,
     "metadata": {},
     "output_type": "execute_result"
    }
   ],
   "source": [
    "w[0].shape"
   ]
  },
  {
   "cell_type": "code",
   "execution_count": 134,
   "metadata": {},
   "outputs": [],
   "source": [
    "X = w[0]\n",
    "X -= np.mean(X, axis = 0) # zero-center the data (important)\n",
    "cov = np.dot(X.T, X) / X.shape[0] # get the data covariance matrix\n",
    "U,S,V = np.linalg.svd(cov)\n",
    "Xrot = np.dot(X, U) # decorrelate the data\n",
    "Xrot_reduced = np.dot(X, U[:,:2]) # Xrot_reduced becomes [N x 100]"
   ]
  },
  {
   "cell_type": "code",
   "execution_count": 133,
   "metadata": {},
   "outputs": [
    {
     "data": {
      "image/png": "[encoded data removed]",
      "text/plain": [
       "<matplotlib.figure.Figure at 0x138698240>"
      ]
     },
     "metadata": {},
     "output_type": "display_data"
    }
   ],
   "source": [
    "total = np.sum(S)\n",
    "n = 20\n",
    "plt.bar(np.arange(n)+1, S[:n] / total)\n",
    "plt.xticks(np.arange(n)+1)\n",
    "plt.show()"
   ]
  },
  {
   "cell_type": "code",
   "execution_count": 137,
   "metadata": {},
   "outputs": [
    {
     "data": {
      "image/png": "[encoded data removed]",
      "text/plain": [
       "<matplotlib.figure.Figure at 0x136bc4748>"
      ]
     },
     "metadata": {},
     "output_type": "display_data"
    }
   ],
   "source": [
    "plt.scatter(Xrot_reduced[:,0], Xrot_reduced[:,1])\n",
    "plt.show()"
   ]
  },
  {
   "cell_type": "code",
   "execution_count": 130,
   "metadata": {},
   "outputs": [
    {
     "data": {
      "text/plain": [
       "(25, 25)"
      ]
     },
     "execution_count": 130,
     "metadata": {},
     "output_type": "execute_result"
    }
   ],
   "source": [
    "w[1].shape"
   ]
  },
  {
   "cell_type": "code",
   "execution_count": 109,
   "metadata": {},
   "outputs": [
    {
     "name": "stdout",
     "output_type": "stream",
     "text": [
      "(16, 25)\n",
      "(25, 25)\n",
      "(25,)\n",
      "(25, 1)\n",
      "(1,)\n"
     ]
    }
   ],
   "source": [
    "for i in range(5):\n",
    "    print (w[i].shape)"
   ]
  },
  {
   "cell_type": "code",
   "execution_count": 114,
   "metadata": {},
   "outputs": [],
   "source": [
    "rnn_fperf = np.zeros((3,7))"
   ]
  },
  {
   "cell_type": "code",
   "execution_count": 115,
   "metadata": {},
   "outputs": [],
   "source": [
    "rnn_fperf[0,0] = 1e-5"
   ]
  },
  {
   "cell_type": "code",
   "execution_count": 119,
   "metadata": {},
   "outputs": [
    {
     "data": {
      "text/plain": [
       "(1, 7, 3)"
      ]
     },
     "execution_count": 119,
     "metadata": {},
     "output_type": "execute_result"
    }
   ],
   "source": [
    "performance_r2.shape"
   ]
  },
  {
   "cell_type": "code",
   "execution_count": null,
   "metadata": {},
   "outputs": [],
   "source": []
  }
 ],
 "metadata": {
  "kernelspec": {
   "display_name": "Python 3",
   "language": "python",
   "name": "python3"
  },
  "language_info": {
   "codemirror_mode": {
    "name": "ipython",
    "version": 3
   },
   "file_extension": ".py",
   "mimetype": "text/x-python",
   "name": "python",
   "nbconvert_exporter": "python",
   "pygments_lexer": "ipython3",
   "version": "3.6.2"
  }
 },
 "nbformat": 4,
 "nbformat_minor": 2
}
