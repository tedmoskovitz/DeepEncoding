{
 "cells": [
  {
   "cell_type": "markdown",
   "metadata": {},
   "source": [
    "# Apply Keras Networks to V1 Data\n",
    "\n",
    "**Ted Moskovitz, 2018**"
   ]
  },
  {
   "cell_type": "markdown",
   "metadata": {},
   "source": [
    "load dependencies, set display parameters"
   ]
  },
  {
   "cell_type": "code",
   "execution_count": 10,
   "metadata": {},
   "outputs": [],
   "source": [
    "import numpy as np\n",
    "import matplotlib.pyplot as plt\n",
    "import scipy.io as spio \n",
    "import h5py\n",
    "from v1_data import V1\n",
    "import os\n",
    "import os.path\n",
    "from time import time\n",
    "import nonlinearity as nl\n",
    "\n",
    "import tensorflow as tf\n",
    "from keras.models import Sequential, load_model\n",
    "from keras.layers import Dense, Dropout, Activation, BatchNormalization, GRU, CuDNNLSTM, Flatten, Conv1D, GlobalAveragePooling1D, MaxPooling1D\n",
    "from keras.layers import Input\n",
    "from keras.models import Model\n",
    "from keras.optimizers import RMSprop, SGD, Adam\n",
    "from keras.constraints import maxnorm\n",
    "from keras.callbacks import EarlyStopping, TensorBoard\n",
    "import time \n",
    "\n",
    "from tf_utils import neglogli, poiss_full, get_bps, r2, restore_performance_checkpt, color, get_nn_model\n",
    "from nn_models import gen_fc_model, gen_rnn_model, gen_cnn_model, gen_ES_model\n",
    "\n",
    "# set plots inside notebook\n",
    "%matplotlib inline\n",
    "plt.rcParams['figure.figsize'] = (12.0, 9.0) # set default size of plots\n",
    "plt.rcParams['image.interpolation'] = 'nearest'\n",
    "plt.rcParams['image.cmap'] = 'gray'\n",
    "plt.rcParams['font.size'] = 18\n",
    "\n",
    "N_COMPLEX = len(os.listdir('./RustV1/complex/data/'))\n",
    "N_SIMPLE = len(os.listdir('./RustV1/simple/data/'))\n",
    "cell_nums = {'simple':N_SIMPLE, 'complex':N_COMPLEX}"
   ]
  },
  {
   "cell_type": "markdown",
   "metadata": {},
   "source": [
    "**Standard DNN Models**"
   ]
  },
  {
   "cell_type": "code",
   "execution_count": 6,
   "metadata": {},
   "outputs": [],
   "source": [
    "ln_fs = [0,1,2,3,4,5]\n",
    "\n",
    "h_layers_fc = [2]#,1,2,3]\n",
    "h_sizes_fc = [64]#,4,5,16,32,64,128]\n",
    "\n",
    "h_layers_rnn = [0,1,2]\n",
    "h_sizes_rnn = [2,5,10,25,50]\n",
    "\n",
    "h_layers_cnn = [0,1,2,3]\n",
    "h_sizes_cnn = [2,4,8,16,32,64]\n",
    "\n",
    "# dictionary of hyperparameters\n",
    "hparams = {'fc':{'h_layers':h_layers_fc, 'h_sizes':h_sizes_fc, 'ndepths':len(h_layers_fc), 'nwidths':len(h_sizes_fc)},\n",
    "          'rnn':{'h_layers':h_layers_rnn, 'h_sizes':h_sizes_rnn, 'ndepths':len(h_layers_rnn), 'nwidths':len(h_sizes_rnn)},\n",
    "          'cnn':{'h_layers':h_layers_cnn, 'h_sizes':h_sizes_cnn, 'ndepths':len(h_layers_cnn), 'nwidths':len(h_sizes_cnn)}}"
   ]
  },
  {
   "cell_type": "markdown",
   "metadata": {},
   "source": [
    "training pipeline"
   ]
  },
  {
   "cell_type": "code",
   "execution_count": null,
   "metadata": {},
   "outputs": [
    {
     "name": "stdout",
     "output_type": "stream",
     "text": [
      "building data...\n",
      "fetching repeat data...\n",
      "done.\n",
      "building data...\n",
      "fetching repeat data...\n",
      "done.\n",
      "============================================================\n",
      "\u001b[1mTraining Model on Cell 1 of 3 with depth of 4 and width of 64\u001b[0m\n",
      "_________________________________________________________________\n",
      "Layer (type)                 Output Shape              Param #   \n",
      "=================================================================\n",
      "conv1d_9 (Conv1D)            (None, 16, 64)            7232      \n",
      "_________________________________________________________________\n",
      "conv1d_10 (Conv1D)           (None, 16, 64)            28736     \n",
      "_________________________________________________________________\n",
      "max_pooling1d_5 (MaxPooling1 (None, 8, 64)             0         \n",
      "_________________________________________________________________\n",
      "dropout_6 (Dropout)          (None, 8, 64)             0         \n",
      "_________________________________________________________________\n",
      "conv1d_11 (Conv1D)           (None, 8, 64)             20544     \n",
      "_________________________________________________________________\n",
      "conv1d_12 (Conv1D)           (None, 8, 64)             20544     \n",
      "_________________________________________________________________\n",
      "max_pooling1d_6 (MaxPooling1 (None, 4, 64)             0         \n",
      "_________________________________________________________________\n",
      "dropout_7 (Dropout)          (None, 4, 64)             0         \n",
      "_________________________________________________________________\n",
      "conv1d_13 (Conv1D)           (None, 4, 128)            24704     \n",
      "_________________________________________________________________\n",
      "conv1d_14 (Conv1D)           (None, 4, 128)            49280     \n",
      "_________________________________________________________________\n",
      "max_pooling1d_7 (MaxPooling1 (None, 2, 128)            0         \n",
      "_________________________________________________________________\n",
      "dropout_8 (Dropout)          (None, 2, 128)            0         \n",
      "_________________________________________________________________\n",
      "global_average_pooling1d_2 ( (None, 128)               0         \n",
      "_________________________________________________________________\n",
      "dropout_9 (Dropout)          (None, 128)               0         \n",
      "_________________________________________________________________\n",
      "dense_2 (Dense)              (None, 1)                 129       \n",
      "=================================================================\n",
      "Total params: 151,169\n",
      "Trainable params: 151,169\n",
      "Non-trainable params: 0\n",
      "_________________________________________________________________\n",
      "Train on 229364 samples, validate on 32766 samples\n",
      "Epoch 1/16\n",
      "229364/229364 [==============================] - 110s 479us/step - loss: 0.7509 - val_loss: 0.6158\n",
      "Epoch 2/16\n",
      "229364/229364 [==============================] - 102s 444us/step - loss: 0.5945 - val_loss: 0.5692\n",
      "Epoch 3/16\n",
      "229364/229364 [==============================] - 97s 422us/step - loss: 0.5746 - val_loss: 0.5644\n",
      "Epoch 4/16\n",
      "229364/229364 [==============================] - 105s 457us/step - loss: 0.5695 - val_loss: 0.5643\n",
      "Epoch 5/16\n",
      "229364/229364 [==============================] - 85s 369us/step - loss: 0.5647 - val_loss: 0.5595\n",
      "Epoch 6/16\n",
      "229364/229364 [==============================] - 92s 399us/step - loss: 0.5620 - val_loss: 0.5578\n",
      "Epoch 7/16\n",
      "229364/229364 [==============================] - 87s 380us/step - loss: 0.5597 - val_loss: 0.5570\n",
      "Epoch 8/16\n",
      "229364/229364 [==============================] - 94s 410us/step - loss: 0.5579 - val_loss: 0.5560\n",
      "Epoch 9/16\n",
      "229364/229364 [==============================] - 100s 434us/step - loss: 0.5579 - val_loss: 0.5558\n",
      "Epoch 10/16\n",
      "229364/229364 [==============================] - 105s 460us/step - loss: 0.5561 - val_loss: 0.5569\n",
      "Epoch 11/16\n",
      "229364/229364 [==============================] - 105s 456us/step - loss: 0.5561 - val_loss: 0.5553\n",
      "Epoch 12/16\n",
      "120950/229364 [==============>...............] - ETA: 49s - loss: 0.5556"
     ]
    }
   ],
   "source": [
    "# model settings\n",
    "celltype = 'simple'\n",
    "model_type = 'cnn'\n",
    "plot = False \n",
    "gen_psth = False\n",
    "save_model = False\n",
    "save_perf = False \n",
    "restore_frm_chkpt = False\n",
    "v1 = V1(celltype, 1)\n",
    "save_best = False\n",
    "\n",
    "ndepths = hparams[model_type]['ndepths']\n",
    "nwidths = hparams[model_type]['nwidths']\n",
    "nfilts = len(ln_fs)\n",
    "\n",
    "performance_bps = np.zeros([ndepths, nwidths, cell_nums[celltype]])\n",
    "performance_r2 = np.zeros([ndepths, nwidths, cell_nums[celltype]])\n",
    "filter_bps = np.zeros([nfilts])\n",
    "filter_r2 = np.zeros([nfilts])\n",
    "best_r2 = -1.\n",
    "best_bps = -1.\n",
    "\n",
    "# can choose to restore performance checkpoint\n",
    "if restore_frm_chkpt:\n",
    "    print (color.BOLD + 'loading checkpoint...' + color.END)\n",
    "    performance_bps = restore_performance_checkpt('./SavedResults/' + celltype \\\n",
    "                                                  + '_' + model_type + '_bps.csv')\n",
    "    performance_bps = performance_bps.reshape(ndepths, nwidths, cell_nums[celltype])\n",
    "    best_bps = np.max(performance_bps)\n",
    "    \n",
    "    performance_r2 = restore_performance_checkpt('./SavedResults/' + celltype \\\n",
    "                                                 + '_' + model_type + '_r2.csv')\n",
    "    performance_r2 = performance_r2.reshape(ndepths, nwidths, cell_nums[celltype])\n",
    "    best_r2 = np.max(performance_r2)\n",
    "    \n",
    "\n",
    "# define early stopping callback - UNUSED currently\n",
    "earlystop = EarlyStopping(monitor='val_loss', patience=3, min_delta=.1, verbose=1, mode='auto')\n",
    "callbacks_list = [earlystop]\n",
    "\n",
    "# model type\n",
    "gen_model = {'fc':gen_fc_model, 'rnn':gen_rnn_model, 'cnn':gen_cnn_model}\n",
    "\n",
    "# data format\n",
    "if model_type in ['rnn', 'cnn']: flatten = False;\n",
    "else: flatten = True;\n",
    "    \n",
    "perfs = np.zeros(cell_nums[celltype])\n",
    "\n",
    "\n",
    "k = 0\n",
    "for cell_num in range(1):#,cell_nums[celltype]):\n",
    "    v1 = V1(celltype, cell_num+1, flatten=flatten);\n",
    "    i = 0\n",
    "    for L in [2]:#hparams[model_type]['h_layers']:\n",
    "        j = 0\n",
    "        for H in [64]:#hparams[model_type]['h_sizes']:\n",
    "            if performance_bps[i,j,k] == 0.: # avoid redundancy\n",
    "                print (\"============================================================\")\n",
    "                print (color.BOLD + \"Training Model on Cell \" + str(cell_num+1) + \" of \" + str(cell_nums[celltype])  \\\n",
    "                       + \" with depth of \" + str(L+2) + \" and width of \" + str(H) + color.END) \n",
    "                # generate model\n",
    "                model = gen_model[model_type](H, L=L, dim=v1.X_train.shape[-1])\n",
    "                #model = get_nn_model(celltype, model_type, metric='r2', filts=False)\n",
    "\n",
    "                # fit model\n",
    "                hist = model.fit(v1.X_train, v1.y_train, batch_size=50, epochs=16, \n",
    "                                 verbose=1, callbacks=None, validation_data=(v1.X_val, v1.y_val)) #22 for comp\n",
    "                time.sleep(0.1)\n",
    "\n",
    "                # evaluate performance\n",
    "                bps,_ = get_bps(model, v1)\n",
    "                _, rsq = r2(model.predict(v1.X_test).reshape(-1,), v1.y_test.reshape(-1,))\n",
    "                \n",
    "                perfs[cell_num] = rsq\n",
    "\n",
    "                if bps > best_bps and save_model:\n",
    "                    best_bps = bps\n",
    "                    print (color.PURPLE + 'saving new bps model...' + color.END)\n",
    "                    model.save('SavedModels/' + celltype + '_best_' + model_type + '_bps.h5')\n",
    "\n",
    "                if (rsq > best_r2 and save_model) or save_best:\n",
    "                    best_r2 = rsq\n",
    "                    print (color.PURPLE + 'saving new r2 model...' + color.END)\n",
    "                    model.save('SavedModels/32f_' + celltype + '_best_' + model_type + '_r2_cell'\n",
    "                               + str(cell_num+1)+'.h5')\n",
    "\n",
    "                performance_bps[i,j,k] = bps\n",
    "                performance_r2[i,j,k] = rsq\n",
    "\n",
    "                # generate a PSTH using the current cell's repeat data, if desired\n",
    "                if gen_psth:\n",
    "                    rpt_preds = model.predict(v1.X_rpt)\n",
    "                    model_psth = v1.convert_nn_psth(rpt_preds)\n",
    "\n",
    "                    if plot:\n",
    "                        plt.plot(model_psth, label='nn')\n",
    "                        plt.plot(v1.psth, label='repeat')\n",
    "                        plt.legend()\n",
    "                        plt.xlabel('Time (ms)')\n",
    "                        plt.ylabel('Rate (sp/s)')\n",
    "                        plt.show()\n",
    "\n",
    "\n",
    "                print (\"bps: \", bps)\n",
    "                print (\"r2: \", rsq)\n",
    "                print (\" \")\n",
    "\n",
    "\n",
    "            j += 1\n",
    "            \n",
    "            if save_perf: \n",
    "                print (color.BOLD + 'saving checkpoint...\\n' + color.END)\n",
    "                np.savetxt('./SavedResults/' + celltype + '_' + model_type \\\n",
    "                           + '_bps.csv', performance_bps.reshape(-1,1), delimiter=',')\n",
    "                np.savetxt('./SavedResults/' + celltype + '_' + model_type \\\n",
    "                           + '_r2.csv', performance_r2.reshape(-1,1), delimiter=',')\n",
    "        i += 1\n",
    "    k += 1\n"
   ]
  },
  {
   "cell_type": "code",
   "execution_count": 35,
   "metadata": {},
   "outputs": [],
   "source": [
    "model.save('SavedModels/' + celltype + '_best_' + model_type + '_r2_cell1.h5')"
   ]
  },
  {
   "cell_type": "markdown",
   "metadata": {},
   "source": [
    "**pca reconstruction experiment**"
   ]
  },
  {
   "cell_type": "code",
   "execution_count": 2,
   "metadata": {},
   "outputs": [],
   "source": [
    "def get_nn_wts(model, celltype, metric='r2', verbose=False, filts=False):\n",
    "    nn = get_nn_model(celltype, model, metric=metric, verbose=verbose, filts=filts) \n",
    "    if verbose: nn.summary(); \n",
    "    weights = [l.get_weights() for l in nn.layers]\n",
    "    return weights\n",
    "\n",
    "def get_filts(wts):\n",
    "    return wts[0][0]\n",
    "\n",
    "def pca_reconstruct(filts, i):\n",
    "    n = filts.shape[1]\n",
    "    X = filts#.reshape(-1,128)\n",
    "    mu = np.mean(X, axis = 0)\n",
    "    X_c = X - mu # zero-center the data (important)\n",
    "    cov = np.dot(X_c.T, X_c) / X.shape[0] # get the data covariance matrix\n",
    "    U,S,V = np.linalg.svd(cov)\n",
    "    #Xrot = np.dot(X, U) # decorrelate the data\n",
    "    Ured = U[:,:i] if i < n else U\n",
    "    Xrot_red = np.dot(X_c, Ured) # Xrot_reduced becomes [N x i]\n",
    "    X_rec = np.dot(Ured, Xrot_red.T) + mu.reshape(X.shape[1],1)\n",
    "    return X_rec.T\n",
    "\n",
    "def get_upper_wts(wts):\n",
    "    # extract upper layer weights\n",
    "    ws = {}\n",
    "    bs = {}\n",
    "    lc = 1\n",
    "    for l in range(len(wts)):\n",
    "        if len(wts[l]) > 0:\n",
    "            ws[lc] = wts[l][0]\n",
    "            bs[lc] = wts[l][1]\n",
    "            lc += 1\n",
    "    return ws, bs"
   ]
  },
  {
   "cell_type": "code",
   "execution_count": 4,
   "metadata": {},
   "outputs": [
    {
     "name": "stdout",
     "output_type": "stream",
     "text": [
      "loading cnn...\n",
      "_________________________________________________________________\n",
      "Layer (type)                 Output Shape              Param #   \n",
      "=================================================================\n",
      "conv1d_183 (Conv1D)          (None, 16, 64)            7232      \n",
      "_________________________________________________________________\n",
      "conv1d_184 (Conv1D)          (None, 16, 64)            28736     \n",
      "_________________________________________________________________\n",
      "max_pooling1d_82 (MaxPooling (None, 8, 64)             0         \n",
      "_________________________________________________________________\n",
      "dropout_35 (Dropout)         (None, 8, 64)             0         \n",
      "_________________________________________________________________\n",
      "conv1d_185 (Conv1D)          (None, 8, 64)             20544     \n",
      "_________________________________________________________________\n",
      "conv1d_186 (Conv1D)          (None, 8, 64)             20544     \n",
      "_________________________________________________________________\n",
      "max_pooling1d_83 (MaxPooling (None, 4, 64)             0         \n",
      "_________________________________________________________________\n",
      "dropout_36 (Dropout)         (None, 4, 64)             0         \n",
      "_________________________________________________________________\n",
      "conv1d_187 (Conv1D)          (None, 4, 128)            24704     \n",
      "_________________________________________________________________\n",
      "conv1d_188 (Conv1D)          (None, 4, 128)            49280     \n",
      "_________________________________________________________________\n",
      "max_pooling1d_84 (MaxPooling (None, 2, 128)            0         \n",
      "_________________________________________________________________\n",
      "dropout_37 (Dropout)         (None, 2, 128)            0         \n",
      "_________________________________________________________________\n",
      "global_average_pooling1d_40  (None, 128)               0         \n",
      "_________________________________________________________________\n",
      "dropout_38 (Dropout)         (None, 128)               0         \n",
      "_________________________________________________________________\n",
      "dense_40 (Dense)             (None, 1)                 129       \n",
      "=================================================================\n",
      "Total params: 151,169\n",
      "Trainable params: 151,169\n",
      "Non-trainable params: 0\n",
      "_________________________________________________________________\n"
     ]
    }
   ],
   "source": [
    "mod = get_nn_model('simple', 'cnn', metric='r2', verbose=True, filts=False)\n",
    "mod.summary()"
   ]
  },
  {
   "cell_type": "code",
   "execution_count": 5,
   "metadata": {},
   "outputs": [
    {
     "name": "stdout",
     "output_type": "stream",
     "text": [
      "===============================\n",
      "Working on Cell 1 of 3\n",
      "building data...\n",
      "fetching repeat data...\n",
      "done.\n",
      "1/32 reconstructed filter(s): r^2 = 0.2849132257355568, I_ss = 0.8225247126412597\n",
      "2/32 reconstructed filter(s): r^2 = 0.2854907880715246, I_ss = 0.8239919317227062\n",
      "3/32 reconstructed filter(s): r^2 = 0.28564387200043023, I_ss = 0.8242070228423907\n",
      "4/32 reconstructed filter(s): r^2 = 0.28779788266545603, I_ss = 0.8288142947980102\n",
      "5/32 reconstructed filter(s): r^2 = 0.2878723672722287, I_ss = 0.8297745734147318\n",
      "6/32 reconstructed filter(s): r^2 = 0.2881129225494427, I_ss = 0.8312370797884323\n",
      "7/32 reconstructed filter(s): r^2 = 0.2881340337242016, I_ss = 0.831767786596064\n",
      "8/32 reconstructed filter(s): r^2 = 0.2883284755195921, I_ss = 0.8322391793007645\n",
      "9/32 reconstructed filter(s): r^2 = 0.2884753141371591, I_ss = 0.8332779119590065\n",
      "10/32 reconstructed filter(s): r^2 = 0.288789967683164, I_ss = 0.8343497701740513\n",
      "11/32 reconstructed filter(s): r^2 = 0.28900134995756255, I_ss = 0.8353983351262138\n",
      "12/32 reconstructed filter(s): r^2 = 0.2889960810355875, I_ss = 0.8358372061235614\n",
      "13/32 reconstructed filter(s): r^2 = 0.28900015819453523, I_ss = 0.8359990933486113\n",
      "14/32 reconstructed filter(s): r^2 = 0.28894984795193157, I_ss = 0.8362042038741424\n",
      "15/32 reconstructed filter(s): r^2 = 0.2889475021850231, I_ss = 0.8364219999564781\n",
      "16/32 reconstructed filter(s): r^2 = 0.28908038963525556, I_ss = 0.8362890986801534\n",
      "17/32 reconstructed filter(s): r^2 = 0.28912645093208206, I_ss = 0.8361604131192385\n",
      "18/32 reconstructed filter(s): r^2 = 0.28911688443661565, I_ss = 0.8359544312091675\n",
      "19/32 reconstructed filter(s): r^2 = 0.2889296337711225, I_ss = 0.8357660340021922\n",
      "20/32 reconstructed filter(s): r^2 = 0.2887501190288557, I_ss = 0.8354064796123057\n",
      "21/32 reconstructed filter(s): r^2 = 0.28897201831032904, I_ss = 0.8358112716834807\n",
      "22/32 reconstructed filter(s): r^2 = 0.2891128108284629, I_ss = 0.8359631887345753\n",
      "23/32 reconstructed filter(s): r^2 = 0.28928749557635003, I_ss = 0.8362973926569953\n",
      "24/32 reconstructed filter(s): r^2 = 0.28941122104866696, I_ss = 0.8366809209706711\n",
      "25/32 reconstructed filter(s): r^2 = 0.28936318476360023, I_ss = 0.8362740033091232\n",
      "26/32 reconstructed filter(s): r^2 = 0.2891763082588691, I_ss = 0.8358091601729982\n",
      "27/32 reconstructed filter(s): r^2 = 0.289026565078876, I_ss = 0.8357941395917989\n",
      "28/32 reconstructed filter(s): r^2 = 0.28900127343002013, I_ss = 0.8356744814630901\n",
      "29/32 reconstructed filter(s): r^2 = 0.2888495550460779, I_ss = 0.8351662263413748\n",
      "30/32 reconstructed filter(s): r^2 = 0.2888108371910532, I_ss = 0.8351536900654505\n",
      "31/32 reconstructed filter(s): r^2 = 0.28876357999247304, I_ss = 0.8351329364906594\n",
      "32/32 reconstructed filter(s): r^2 = 0.288688846979122, I_ss = 0.8349518482473071\n"
     ]
    }
   ],
   "source": [
    "celltype = 'simple'\n",
    "model_type = 'fc'\n",
    "n_filts = {'simple':64, 'complex':128}\n",
    "perfs = np.zeros([cell_nums[celltype], n_filts[celltype]])\n",
    "metric='r2'\n",
    "save_perf = False\n",
    "p_bps = []\n",
    "\n",
    "for c in range(1,2):#cell_nums[celltype]+1):\n",
    "    print ('===============================')\n",
    "    print ('Working on Cell {} of {}'.format(c,cell_nums[celltype]))\n",
    "    v1 = V1(celltype, c, flatten=True)\n",
    "    mm = get_nn_model(celltype, model_type, metric=metric, verbose=True, filts=False, cell=c) \n",
    "    K,b = mm.layers[0].get_weights()\n",
    "\n",
    "    for i in range(1,n_filts[celltype]+1):\n",
    "        # reconstruct filters using principle components\n",
    "        K_red = pca_reconstruct(K, i)\n",
    "        # insert reconstructed filters into model\n",
    "        mm.layers[0].set_weights(weights=[K_red, b])\n",
    "\n",
    "        # test it\n",
    "        bps,_ = get_bps(mm, v1)\n",
    "        _, rsq = r2(mm.predict(v1.X_test).reshape(-1,), v1.y_test.reshape(-1,))\n",
    "        \n",
    "        perfs[c-1,i-1] = rsq\n",
    "        p_bps.append(bps)\n",
    "\n",
    "        print (\"{}/{} reconstructed filter(s): r^2 = {}, I_ss = {}\".format(i,n_filts[celltype],rsq,bps))\n",
    "    \n",
    "\n",
    "if save_perf:\n",
    "    path = './SavedResults/{}_{}_pca.csv'.format(celltype, model_type)\n",
    "    np.savetxt(path, perfs, delimiter=',')\n"
   ]
  },
  {
   "cell_type": "code",
   "execution_count": 7,
   "metadata": {},
   "outputs": [],
   "source": [
    "path = './SavedResults/{}_{}_pca.csv'.format(celltype, model_type)\n",
    "np.savetxt(path, perfs, delimiter=',')"
   ]
  },
  {
   "cell_type": "code",
   "execution_count": 6,
   "metadata": {
    "scrolled": false
   },
   "outputs": [
    {
     "data": {
      "image/png": "[encoded data removed]",
      "text/plain": [
       "<matplotlib.figure.Figure at 0x1155e9048>"
      ]
     },
     "metadata": {},
     "output_type": "display_data"
    },
    {
     "data": {
      "image/png": "[encoded data removed]",
      "text/plain": [
       "<matplotlib.figure.Figure at 0x1155bdb38>"
      ]
     },
     "metadata": {},
     "output_type": "display_data"
    },
    {
     "data": {
      "image/png": "[encoded data removed]",
      "text/plain": [
       "<matplotlib.figure.Figure at 0x13a382da0>"
      ]
     },
     "metadata": {},
     "output_type": "display_data"
    }
   ],
   "source": [
    "celltype = 'simple'\n",
    "path = './SavedResults/{}_{}_pca.csv'.format(celltype, model_type)\n",
    "p = np.genfromtxt(path, delimiter=',')\n",
    "for i in range(1,cell_nums[celltype]+1):\n",
    "    plt.plot(perfs[0,1:])\n",
    "    plt.xlabel('PCs used in reconstruction')\n",
    "    plt.ylabel('Test $r^2$')\n",
    "    plt.title('{} cell {}'.format(celltype, i))\n",
    "    plt.show()"
   ]
  },
  {
   "cell_type": "code",
   "execution_count": 42,
   "metadata": {},
   "outputs": [
    {
     "name": "stdout",
     "output_type": "stream",
     "text": [
      "loading fc...\n",
      "_________________________________________________________________\n",
      "Layer (type)                 Output Shape              Param #   \n",
      "=================================================================\n",
      "dense_350 (Dense)            (None, 128)               32896     \n",
      "_________________________________________________________________\n",
      "activation_252 (Activation)  (None, 128)               0         \n",
      "_________________________________________________________________\n",
      "dropout_56 (Dropout)         (None, 128)               0         \n",
      "_________________________________________________________________\n",
      "dense_351 (Dense)            (None, 1)                 129       \n",
      "=================================================================\n",
      "Total params: 33,025\n",
      "Trainable params: 33,025\n",
      "Non-trainable params: 0\n",
      "_________________________________________________________________\n"
     ]
    }
   ],
   "source": [
    "celltype = 'complex'\n",
    "m = get_nn_model(celltype, 'fc', metric='r2', verbose=True, filts=False)\n",
    "m.summary()"
   ]
  },
  {
   "cell_type": "code",
   "execution_count": 171,
   "metadata": {},
   "outputs": [
    {
     "name": "stdout",
     "output_type": "stream",
     "text": [
      "0.0\n"
     ]
    }
   ],
   "source": [
    "print (np.sqrt(np.sum((filts-m.layers[0].get_weights()[0])**2)))"
   ]
  },
  {
   "cell_type": "code",
   "execution_count": 177,
   "metadata": {},
   "outputs": [],
   "source": [
    "filts = m.layers[0].get_weights()[0]"
   ]
  },
  {
   "cell_type": "code",
   "execution_count": 178,
   "metadata": {},
   "outputs": [],
   "source": [
    "fs = m.layers[0].get_weights()\n",
    "m.layers[0].set_weights(weights=[filts, fs[1]])"
   ]
  },
  {
   "cell_type": "code",
   "execution_count": 17,
   "metadata": {},
   "outputs": [
    {
     "name": "stdout",
     "output_type": "stream",
     "text": [
      "_________________________________________________________________\n",
      "Layer (type)                 Output Shape              Param #   \n",
      "=================================================================\n",
      "dense_1 (Dense)              (None, 64)                16448     \n",
      "_________________________________________________________________\n",
      "activation_1 (Activation)    (None, 64)                0         \n",
      "_________________________________________________________________\n",
      "dropout_1 (Dropout)          (None, 64)                0         \n",
      "_________________________________________________________________\n",
      "dense_2 (Dense)              (None, 64)                4160      \n",
      "_________________________________________________________________\n",
      "activation_2 (Activation)    (None, 64)                0         \n",
      "_________________________________________________________________\n",
      "dropout_2 (Dropout)          (None, 64)                0         \n",
      "_________________________________________________________________\n",
      "dense_3 (Dense)              (None, 64)                4160      \n",
      "_________________________________________________________________\n",
      "activation_3 (Activation)    (None, 64)                0         \n",
      "_________________________________________________________________\n",
      "dropout_3 (Dropout)          (None, 64)                0         \n",
      "_________________________________________________________________\n",
      "dense_4 (Dense)              (None, 1)                 65        \n",
      "=================================================================\n",
      "Total params: 24,833\n",
      "Trainable params: 24,833\n",
      "Non-trainable params: 0\n",
      "_________________________________________________________________\n"
     ]
    }
   ],
   "source": [
    "m.summary()\n",
    "\n",
    "_, rsq = r2(m.predict(v1.X_test).reshape(-1,), v1.y_test.reshape(-1,))"
   ]
  },
  {
   "cell_type": "code",
   "execution_count": 18,
   "metadata": {},
   "outputs": [
    {
     "data": {
      "text/plain": [
       "0.0078475506570980531"
      ]
     },
     "execution_count": 18,
     "metadata": {},
     "output_type": "execute_result"
    }
   ],
   "source": [
    "rsq"
   ]
  },
  {
   "cell_type": "markdown",
   "metadata": {},
   "source": [
    "**DNN-LNP Hybrid Architecture**"
   ]
  },
  {
   "cell_type": "markdown",
   "metadata": {},
   "source": [
    "hyperparameter settings"
   ]
  },
  {
   "cell_type": "code",
   "execution_count": 10,
   "metadata": {},
   "outputs": [],
   "source": [
    "#ln_fs = [2,4,8,12,16,24]\n",
    "#ln_fs = [1,2,4,8,16,32]\n",
    "ln_fs = [32] #1,2,3,4,5,6,\n",
    "\n",
    "#s_fc_config = {'L':2, 'H':50}\n",
    "s_fc_config = {'L':1, 'H':64}\n",
    "s_rnn_config = {'L':2, 'H':50}\n",
    "s_cnn_config = {'L':0, 'H':64}\n",
    "\n",
    "c_fc_config = {'L':2, 'H':128}\n",
    "c_rnn_config = {'L':2, 'H':25}\n",
    "c_cnn_config = {'L':1, 'H':32}\n",
    "\n",
    "\n",
    "params = {'fc':{'simple':s_fc_config, 'complex':c_fc_config},\n",
    "          'rnn':{'simple':s_rnn_config, 'complex':c_rnn_config},\n",
    "          'cnn':{'simple':s_cnn_config, 'complex':c_cnn_config}}"
   ]
  },
  {
   "cell_type": "markdown",
   "metadata": {},
   "source": [
    "training pipeline"
   ]
  },
  {
   "cell_type": "code",
   "execution_count": 11,
   "metadata": {
    "scrolled": true
   },
   "outputs": [
    {
     "name": "stdout",
     "output_type": "stream",
     "text": [
      "building data...\n",
      "fetching repeat data...\n",
      "done.\n",
      "filts_tr_\n",
      "building data...\n",
      "fetching repeat data...\n",
      "done.\n",
      "============================================================\n",
      "\u001b[1mTraining Model on Cell 4 of 9 with 32 Filter(s)\u001b[0m\n",
      "_________________________________________________________________\n",
      "Layer (type)                 Output Shape              Param #   \n",
      "=================================================================\n",
      "dense_18 (Dense)             (None, 32)                8224      \n",
      "_________________________________________________________________\n",
      "dense_19 (Dense)             (None, 128)               4224      \n",
      "_________________________________________________________________\n",
      "dropout_11 (Dropout)         (None, 128)               0         \n",
      "_________________________________________________________________\n",
      "dense_20 (Dense)             (None, 128)               16512     \n",
      "_________________________________________________________________\n",
      "activation_7 (Activation)    (None, 128)               0         \n",
      "_________________________________________________________________\n",
      "dropout_12 (Dropout)         (None, 128)               0         \n",
      "_________________________________________________________________\n",
      "dense_21 (Dense)             (None, 128)               16512     \n",
      "_________________________________________________________________\n",
      "activation_8 (Activation)    (None, 128)               0         \n",
      "_________________________________________________________________\n",
      "dropout_13 (Dropout)         (None, 128)               0         \n",
      "_________________________________________________________________\n",
      "dense_22 (Dense)             (None, 1)                 129       \n",
      "=================================================================\n",
      "Total params: 45,601\n",
      "Trainable params: 45,601\n",
      "Non-trainable params: 0\n",
      "_________________________________________________________________\n",
      "Train on 229364 samples, validate on 32766 samples\n",
      "Epoch 1/20\n",
      "229364/229364 [==============================] - 13s 59us/step - loss: 1.2788 - val_loss: 1.2285\n",
      "Epoch 2/20\n",
      "229364/229364 [==============================] - 13s 55us/step - loss: 1.2334 - val_loss: 1.2287\n",
      "Epoch 3/20\n",
      "229364/229364 [==============================] - 13s 55us/step - loss: 1.2294 - val_loss: 1.2284\n",
      "Epoch 4/20\n",
      "229364/229364 [==============================] - 13s 55us/step - loss: 1.2283 - val_loss: 1.2283\n",
      "Epoch 5/20\n",
      "229364/229364 [==============================] - 13s 55us/step - loss: 1.2272 - val_loss: 1.2267\n",
      "Epoch 6/20\n",
      "229364/229364 [==============================] - 13s 55us/step - loss: 1.2248 - val_loss: 1.2240\n",
      "Epoch 7/20\n",
      "229364/229364 [==============================] - 13s 55us/step - loss: 1.2219 - val_loss: 1.2217\n",
      "Epoch 8/20\n",
      "229364/229364 [==============================] - 13s 56us/step - loss: 1.2192 - val_loss: 1.2192\n",
      "Epoch 9/20\n",
      "229364/229364 [==============================] - 13s 55us/step - loss: 1.2161 - val_loss: 1.2147\n",
      "Epoch 10/20\n",
      "229364/229364 [==============================] - 12s 54us/step - loss: 1.2106 - val_loss: 1.2091\n",
      "Epoch 11/20\n",
      "229364/229364 [==============================] - 12s 54us/step - loss: 1.2032 - val_loss: 1.1971\n",
      "Epoch 12/20\n",
      "229364/229364 [==============================] - 13s 55us/step - loss: 1.1930 - val_loss: 1.1855\n",
      "Epoch 13/20\n",
      "229364/229364 [==============================] - 13s 55us/step - loss: 1.1857 - val_loss: 1.1815\n",
      "Epoch 14/20\n",
      "229364/229364 [==============================] - 13s 55us/step - loss: 1.1816 - val_loss: 1.1780\n",
      "Epoch 15/20\n",
      "229364/229364 [==============================] - 13s 55us/step - loss: 1.1780 - val_loss: 1.1764\n",
      "Epoch 16/20\n",
      "229364/229364 [==============================] - 13s 55us/step - loss: 1.1765 - val_loss: 1.1754\n",
      "Epoch 17/20\n",
      "229364/229364 [==============================] - 12s 54us/step - loss: 1.1746 - val_loss: 1.1742\n",
      "Epoch 18/20\n",
      "229364/229364 [==============================] - 14s 60us/step - loss: 1.1733 - val_loss: 1.1738\n",
      "Epoch 19/20\n",
      "229364/229364 [==============================] - 13s 55us/step - loss: 1.1717 - val_loss: 1.1726\n",
      "Epoch 20/20\n",
      "229364/229364 [==============================] - 12s 54us/step - loss: 1.1701 - val_loss: 1.1724\n",
      "bps:  0.118214422809\n",
      "r2:  0.0863690410154\n",
      " \n"
     ]
    }
   ],
   "source": [
    "celltype = 'complex'\n",
    "model_type = 'fc'\n",
    "plot = False \n",
    "gen_psth = False\n",
    "save_model = False\n",
    "save_perf = False\n",
    "restore_frm_chkpt = False\n",
    "v1 = V1(celltype, 1)\n",
    "\n",
    "nfilts = len(ln_fs)\n",
    "use_filts = False\n",
    "trainable = True # freeze/un-freeze pre-trained filters\n",
    "\n",
    "\n",
    "pf_bps = np.zeros([nfilts, cell_nums[celltype]])\n",
    "pf_r2 = np.zeros([nfilts, cell_nums[celltype]])\n",
    "best_r2 = -1.\n",
    "best_bps = -1.\n",
    "\n",
    "\n",
    "# for saving\n",
    "prefix = ''\n",
    "if use_filts: prefix += 'istac_';\n",
    "else: prefix += 'filts_'\n",
    "if trainable: prefix += 'tr_';\n",
    "    \n",
    "print (prefix)\n",
    "\n",
    "\n",
    "if restore_frm_chkpt:\n",
    "    print (color.BOLD + 'loading checkpoint...' + color.END)\n",
    "    pf_bps = restore_performance_checkpt('./SavedResults/' + prefix + celltype \\\n",
    "                                                  + '_' + model_type + '_bps.csv')\n",
    "    pf_bps = pf_bps.reshape(-1, cell_nums[celltype])\n",
    "    best_bps = np.max(pf_bps)\n",
    "    \n",
    "    pf_r2 = restore_performance_checkpt('./SavedResults/' + prefix + celltype \\\n",
    "                                                 + '_' + model_type + '_r2.csv')\n",
    "    pf_r2 = pf_r2.reshape(-1, cell_nums[celltype])\n",
    "    best_r2 = np.max(pf_r2)\n",
    "    \n",
    "    \n",
    "# define early stopping callback\n",
    "earlystop = EarlyStopping(monitor='val_loss', patience=3, min_delta=.1, verbose=1, mode='auto')\n",
    "callbacks_list = [earlystop]\n",
    "\n",
    "# model type\n",
    "gen_model = {'fc':gen_fc_model, 'rnn':gen_rnn_model, 'cnn':gen_cnn_model}\n",
    "\n",
    "# data format\n",
    "if model_type in ['rnn', 'cnn']: flatten = False;\n",
    "else: flatten = True;\n",
    "\n",
    "H = params[model_type][celltype]['H']\n",
    "L = params[model_type][celltype]['L']\n",
    "\n",
    "cell_r2s = []\n",
    "\n",
    "\n",
    "\n",
    "j = 0\n",
    "for cell_num in [3]:#range(cell_nums[celltype]):\n",
    "    v1 = V1(celltype, cell_num+1, flatten=flatten);\n",
    "    filters = None if not use_filts else np.genfromtxt('./SavedFilters/'+celltype+'_istac_filters_cell'+str(cell_num+1)+'.csv',\n",
    "                                                       delimiter=',')\n",
    "    i = 0\n",
    "    #best_r2 = -1.\n",
    "    for nf in ln_fs:\n",
    "        if pf_bps[i,j] == 0.:\n",
    "            print (\"============================================================\")\n",
    "            print (color.BOLD + \"Training Model on Cell \" + str(cell_num+1) + \" of \" + str(cell_nums[celltype])  \\\n",
    "                   + \" with \" + str(nf) + \" Filter(s)\" + color.END) \n",
    "            \n",
    "            # if initializing with pre-trained/calculated filters (i.e. iSTAC)\n",
    "            if filters is not None: filts = filters[:,:nf];\n",
    "            else: filts = None;\n",
    "            model = gen_model[model_type](H, L=L, LNP=nf, dim=v1.X_train.shape[-1], filts=filts, trainable=trainable)\n",
    "\n",
    "            hist = model.fit(v1.X_train, v1.y_train, batch_size=50, epochs=20,\n",
    "                             verbose=1, callbacks=None, validation_data=(v1.X_val, v1.y_val)) \n",
    "            time.sleep(0.1)\n",
    "\n",
    "            # evaluate performance metrics\n",
    "            bps,_ = get_bps(model, v1)\n",
    "            _, rsq = r2(model.predict(v1.X_test).reshape(-1,), v1.y_test.reshape(-1,))\n",
    "            \n",
    "            # save best-performing model\n",
    "            if bps > best_bps and save_model:\n",
    "                best_bps = bps\n",
    "                print (color.PURPLE + 'saving new bps model...' + color.END)\n",
    "                model.save('SavedModels/' + prefix + celltype + '_best_' + model_type + '_bps.h5') \n",
    "\n",
    "            if rsq > best_r2 and save_model:\n",
    "                best_r2 = rsq\n",
    "                print (color.PURPLE + 'saving new r2 model...' + color.END)\n",
    "                model.save('SavedModels/' + prefix + celltype + '_best_' + model_type + '_r2.h5')\n",
    "\n",
    "            pf_bps[i,j] = bps\n",
    "            pf_r2[i,j] = rsq\n",
    "\n",
    "            if gen_psth:\n",
    "                rpt_preds = model.predict(v1.X_rpt)\n",
    "                model_psth = v1.convert_nn_psth(rpt_preds)\n",
    "\n",
    "                if plot:\n",
    "                    plt.plot(model_psth, label='nn')\n",
    "                    plt.plot(v1.psth, label='repeat')\n",
    "                    plt.legend()\n",
    "                    plt.xlabel('Time (ms)')\n",
    "                    plt.ylabel('Rate (sp/s)')\n",
    "                    plt.show()\n",
    "\n",
    "\n",
    "            print (\"bps: \", bps)\n",
    "            print (\"r2: \", rsq)\n",
    "            print (\" \")\n",
    "\n",
    "\n",
    "        i += 1\n",
    "\n",
    "        if save_perf:\n",
    "            print (color.BOLD + 'saving performance checkpoint...\\n' + color.END)\n",
    "            np.savetxt('./SavedResults/' + prefix + celltype + '_' + model_type \\\n",
    "                       + '_bps.csv', pf_bps.reshape(-1,1), delimiter=',')\n",
    "            np.savetxt('./SavedResults/' + prefix + celltype + '_' + model_type \\\n",
    "                       + '_r2.csv', pf_r2.reshape(-1,1), delimiter=',')\n",
    "\n",
    "    j += 1\n",
    "    cell_r2s.append(best_r2)\n",
    "    "
   ]
  },
  {
   "cell_type": "code",
   "execution_count": 6,
   "metadata": {},
   "outputs": [
    {
     "data": {
      "text/plain": [
       "0.2895"
      ]
     },
     "execution_count": 6,
     "metadata": {},
     "output_type": "execute_result"
    }
   ],
   "source": [
    ".024"
   ]
  },
  {
   "cell_type": "code",
   "execution_count": 20,
   "metadata": {},
   "outputs": [],
   "source": [
    "weights = []\n",
    "for layer in model.layers:\n",
    "    weights.append(layer.get_weights())"
   ]
  },
  {
   "cell_type": "code",
   "execution_count": 21,
   "metadata": {},
   "outputs": [
    {
     "data": {
      "image/png": "[encoded data removed]",
      "text/plain": [
       "<matplotlib.figure.Figure at 0x1357d9860>"
      ]
     },
     "metadata": {},
     "output_type": "display_data"
    },
    {
     "data": {
      "image/png": "[encoded data removed]",
      "text/plain": [
       "<matplotlib.figure.Figure at 0x14bf01dd8>"
      ]
     },
     "metadata": {},
     "output_type": "display_data"
    },
    {
     "data": {
      "image/png": "[encoded data removed]",
      "text/plain": [
       "<matplotlib.figure.Figure at 0x135775358>"
      ]
     },
     "metadata": {},
     "output_type": "display_data"
    },
    {
     "data": {
      "image/png": "[encoded data removed]",
      "text/plain": [
       "<matplotlib.figure.Figure at 0x135662828>"
      ]
     },
     "metadata": {},
     "output_type": "display_data"
    },
    {
     "data": {
      "image/png": "[encoded data removed]",
      "text/plain": [
       "<matplotlib.figure.Figure at 0x14bcbc668>"
      ]
     },
     "metadata": {},
     "output_type": "display_data"
    }
   ],
   "source": [
    "for i in range(5):\n",
    "    w = weights[0][0][:,i].reshape(16,16)\n",
    "    w /= np.linalg.norm(w)\n",
    "    plt.imshow(w, interpolation='nearest', cmap='Oranges')\n",
    "    plt.show()"
   ]
  },
  {
   "cell_type": "markdown",
   "metadata": {},
   "source": [
    "comparison of convergence rates"
   ]
  },
  {
   "cell_type": "code",
   "execution_count": 42,
   "metadata": {},
   "outputs": [],
   "source": [
    "np.savetxt('./SavedResults/simple_fc_bps_loss.csv', hist.history['loss'], delimiter=',')"
   ]
  },
  {
   "cell_type": "code",
   "execution_count": 11,
   "metadata": {},
   "outputs": [
    {
     "data": {
      "image/png": "[encoded data removed]",
      "text/plain": [
       "<matplotlib.figure.Figure at 0x11d221208>"
      ]
     },
     "metadata": {},
     "output_type": "display_data"
    }
   ],
   "source": [
    "h1 = np.genfromtxt('./SavedResults/filts_simple_fc_bps_loss.csv', delimiter=',')\n",
    "h2 = np.genfromtxt('./SavedResults/istac_tr_simple_fc_bps_loss.csv', delimiter=',')\n",
    "h3 = np.genfromtxt('./SavedResults/simple_fc_bps_loss.csv', delimiter=',')\n",
    "n_epochs = len(h1)\n",
    "epochs = np.arange(n_epochs) + 1\n",
    "plt.plot(epochs, h1, label='DNN-LNP')\n",
    "plt.plot(epochs, h2, label='Trainable DNN-iSTAC')\n",
    "#plt.plot(h3, label='DNN')\n",
    "plt.legend()\n",
    "plt.ylim([0.55, 0.9])\n",
    "plt.xlabel('Training Epochs')\n",
    "plt.ylabel('Poisson Loss')\n",
    "plt.show()"
   ]
  },
  {
   "cell_type": "code",
   "execution_count": 54,
   "metadata": {},
   "outputs": [],
   "source": [
    "weights = [l.get_weights() for l in model.layers]"
   ]
  },
  {
   "cell_type": "code",
   "execution_count": 55,
   "metadata": {
    "scrolled": false
   },
   "outputs": [
    {
     "data": {
      "image/png": "[encoded data removed]",
      "text/plain": [
       "<matplotlib.figure.Figure at 0x12f9999b0>"
      ]
     },
     "metadata": {},
     "output_type": "display_data"
    },
    {
     "ename": "IndexError",
     "evalue": "index 1 is out of bounds for axis 1 with size 1",
     "output_type": "error",
     "traceback": [
      "\u001b[0;31m---------------------------------------------------------------------------\u001b[0m",
      "\u001b[0;31mIndexError\u001b[0m                                Traceback (most recent call last)",
      "\u001b[0;32m<ipython-input-55-70674d39749c>\u001b[0m in \u001b[0;36m<module>\u001b[0;34m()\u001b[0m\n\u001b[1;32m      1\u001b[0m \u001b[0mweights\u001b[0m \u001b[0;34m=\u001b[0m \u001b[0;34m[\u001b[0m\u001b[0ml\u001b[0m\u001b[0;34m.\u001b[0m\u001b[0mget_weights\u001b[0m\u001b[0;34m(\u001b[0m\u001b[0;34m)\u001b[0m \u001b[0;32mfor\u001b[0m \u001b[0ml\u001b[0m \u001b[0;32min\u001b[0m \u001b[0mmodel\u001b[0m\u001b[0;34m.\u001b[0m\u001b[0mlayers\u001b[0m\u001b[0;34m]\u001b[0m\u001b[0;34m\u001b[0m\u001b[0m\n\u001b[1;32m      2\u001b[0m \u001b[0;32mfor\u001b[0m \u001b[0mi\u001b[0m \u001b[0;32min\u001b[0m \u001b[0mrange\u001b[0m\u001b[0;34m(\u001b[0m\u001b[0;36m4\u001b[0m\u001b[0;34m)\u001b[0m\u001b[0;34m:\u001b[0m\u001b[0;34m\u001b[0m\u001b[0m\n\u001b[0;32m----> 3\u001b[0;31m     \u001b[0mplt\u001b[0m\u001b[0;34m.\u001b[0m\u001b[0mimshow\u001b[0m\u001b[0;34m(\u001b[0m\u001b[0mweights\u001b[0m\u001b[0;34m[\u001b[0m\u001b[0;36m0\u001b[0m\u001b[0;34m]\u001b[0m\u001b[0;34m[\u001b[0m\u001b[0;36m0\u001b[0m\u001b[0;34m]\u001b[0m\u001b[0;34m[\u001b[0m\u001b[0;34m:\u001b[0m\u001b[0;34m,\u001b[0m\u001b[0mi\u001b[0m\u001b[0;34m]\u001b[0m\u001b[0;34m.\u001b[0m\u001b[0mreshape\u001b[0m\u001b[0;34m(\u001b[0m\u001b[0;34m-\u001b[0m\u001b[0;36m1\u001b[0m\u001b[0;34m,\u001b[0m\u001b[0;36m16\u001b[0m\u001b[0;34m)\u001b[0m\u001b[0;34m,\u001b[0m \u001b[0minterpolation\u001b[0m\u001b[0;34m=\u001b[0m\u001b[0;34m'nearest'\u001b[0m\u001b[0;34m,\u001b[0m \u001b[0mcmap\u001b[0m\u001b[0;34m=\u001b[0m\u001b[0;34m'ocean'\u001b[0m\u001b[0;34m)\u001b[0m\u001b[0;34m\u001b[0m\u001b[0m\n\u001b[0m\u001b[1;32m      4\u001b[0m     \u001b[0mplt\u001b[0m\u001b[0;34m.\u001b[0m\u001b[0mshow\u001b[0m\u001b[0;34m(\u001b[0m\u001b[0;34m)\u001b[0m\u001b[0;34m\u001b[0m\u001b[0m\n",
      "\u001b[0;31mIndexError\u001b[0m: index 1 is out of bounds for axis 1 with size 1"
     ]
    }
   ],
   "source": [
    "weights = [l.get_weights() for l in model.layers]\n",
    "for i in range(4):\n",
    "    plt.imshow(weights[0][0][:,i].reshape(-1,16), interpolation='nearest', cmap='ocean')\n",
    "    plt.show()"
   ]
  },
  {
   "cell_type": "code",
   "execution_count": 4,
   "metadata": {},
   "outputs": [
    {
     "name": "stdout",
     "output_type": "stream",
     "text": [
      "18000 / 90000 points computed\n",
      "36000 / 90000 points computed\n",
      "54000 / 90000 points computed\n",
      "72000 / 90000 points computed\n"
     ]
    }
   ],
   "source": [
    "x,y,z = nl.generate(model)"
   ]
  },
  {
   "cell_type": "code",
   "execution_count": 7,
   "metadata": {},
   "outputs": [
    {
     "name": "stderr",
     "output_type": "stream",
     "text": [
      "/Library/Frameworks/Python.framework/Versions/3.6/lib/python3.6/site-packages/matplotlib/axes/_axes.py:545: UserWarning: No labelled objects found. Use label='...' kwarg on individual plots.\n",
      "  warnings.warn(\"No labelled objects found. \"\n"
     ]
    },
    {
     "data": {
      "image/png": "[encoded data removed]",
      "text/plain": [
       "<matplotlib.figure.Figure at 0x1389b1c50>"
      ]
     },
     "metadata": {},
     "output_type": "display_data"
    }
   ],
   "source": [
    "#from comp_nlin import comp_nlin2D\n",
    "from mpl_toolkits.mplot3d import Axes3D\n",
    "import scipy.signal as spsig\n",
    "import scipy.ndimage as spnd\n",
    "fig = plt.figure()\n",
    "ax = fig.gca(projection='3d')\n",
    "ax.plot_surface(x, y, z, cmap='hot', alpha=1.0) #, label='NN'\n",
    "\n",
    "#plt.show()\n",
    "\n",
    "# rotate the axes and update\n",
    "for angle in [15]:#range(0, 360):\n",
    "    ax.view_init(30, angle)\n",
    "    #ax.set_zlabel('firing rate (sp/s)')\n",
    "    plt.draw()\n",
    "    plt.pause(.001)\n",
    "\n",
    "ax.legend()\n",
    "ax.set_zlabel('firing rate (spikes/s)')\n",
    "plt.show()\n",
    "\n"
   ]
  },
  {
   "cell_type": "code",
   "execution_count": 9,
   "metadata": {},
   "outputs": [
    {
     "data": {
      "image/png": "[encoded data removed]",
      "text/plain": [
       "<matplotlib.figure.Figure at 0x1233293c8>"
      ]
     },
     "metadata": {},
     "output_type": "display_data"
    }
   ],
   "source": [
    "plt.plot(ln_fs, np.mean(pf_r2, axis=1))\n",
    "plt.xlabel('Filters')\n",
    "plt.ylabel('Test R^2')\n",
    "plt.xticks(np.asarray(range(max(ln_fs)))+1)\n",
    "plt.show()"
   ]
  },
  {
   "cell_type": "code",
   "execution_count": 188,
   "metadata": {},
   "outputs": [
    {
     "name": "stdout",
     "output_type": "stream",
     "text": [
      "5\n"
     ]
    }
   ],
   "source": [
    "weights = []\n",
    "for layer in model.layers:\n",
    "    weights.append(layer.get_weights())\n",
    "    \n",
    "print len(weights)"
   ]
  },
  {
   "cell_type": "code",
   "execution_count": 3,
   "metadata": {},
   "outputs": [
    {
     "name": "stdout",
     "output_type": "stream",
     "text": [
      "loading cnn...\n",
      "_________________________________________________________________\n",
      "Layer (type)                 Output Shape              Param #   \n",
      "=================================================================\n",
      "conv1d_183 (Conv1D)          (None, 16, 64)            7232      \n",
      "_________________________________________________________________\n",
      "conv1d_184 (Conv1D)          (None, 16, 64)            28736     \n",
      "_________________________________________________________________\n",
      "max_pooling1d_82 (MaxPooling (None, 8, 64)             0         \n",
      "_________________________________________________________________\n",
      "dropout_35 (Dropout)         (None, 8, 64)             0         \n",
      "_________________________________________________________________\n",
      "conv1d_185 (Conv1D)          (None, 8, 64)             20544     \n",
      "_________________________________________________________________\n",
      "conv1d_186 (Conv1D)          (None, 8, 64)             20544     \n",
      "_________________________________________________________________\n",
      "max_pooling1d_83 (MaxPooling (None, 4, 64)             0         \n",
      "_________________________________________________________________\n",
      "dropout_36 (Dropout)         (None, 4, 64)             0         \n",
      "_________________________________________________________________\n",
      "conv1d_187 (Conv1D)          (None, 4, 128)            24704     \n",
      "_________________________________________________________________\n",
      "conv1d_188 (Conv1D)          (None, 4, 128)            49280     \n",
      "_________________________________________________________________\n",
      "max_pooling1d_84 (MaxPooling (None, 2, 128)            0         \n",
      "_________________________________________________________________\n",
      "dropout_37 (Dropout)         (None, 2, 128)            0         \n",
      "_________________________________________________________________\n",
      "global_average_pooling1d_40  (None, 128)               0         \n",
      "_________________________________________________________________\n",
      "dropout_38 (Dropout)         (None, 128)               0         \n",
      "_________________________________________________________________\n",
      "dense_40 (Dense)             (None, 1)                 129       \n",
      "=================================================================\n",
      "Total params: 151,169\n",
      "Trainable params: 151,169\n",
      "Non-trainable params: 0\n",
      "_________________________________________________________________\n"
     ]
    }
   ],
   "source": [
    "cell = 'simple'\n",
    "model = 'cnn'\n",
    "metric = 'r2'\n",
    "\n",
    "model = get_nn_model(cell, model, metric=metric, filts=False)\n",
    "model.summary()"
   ]
  },
  {
   "cell_type": "code",
   "execution_count": 7,
   "metadata": {},
   "outputs": [],
   "source": [
    "weights = []\n",
    "for layer in model.layers:\n",
    "    weights.append(layer.get_weights())"
   ]
  },
  {
   "cell_type": "code",
   "execution_count": 8,
   "metadata": {},
   "outputs": [
    {
     "data": {
      "text/plain": [
       "2"
      ]
     },
     "execution_count": 8,
     "metadata": {},
     "output_type": "execute_result"
    }
   ],
   "source": [
    "len(weights[0])"
   ]
  },
  {
   "cell_type": "code",
   "execution_count": 9,
   "metadata": {},
   "outputs": [
    {
     "data": {
      "text/plain": [
       "(5,)"
      ]
     },
     "execution_count": 9,
     "metadata": {},
     "output_type": "execute_result"
    }
   ],
   "source": [
    "weights[0][1].shape"
   ]
  },
  {
   "cell_type": "code",
   "execution_count": 11,
   "metadata": {},
   "outputs": [],
   "source": [
    "mod = load_model('SavedModels/es_tr_simple_best_fc_r2.h5', custom_objects={'poiss_full': poiss_full})"
   ]
  },
  {
   "cell_type": "code",
   "execution_count": 12,
   "metadata": {},
   "outputs": [
    {
     "name": "stdout",
     "output_type": "stream",
     "text": [
      "__________________________________________________________________________________________________\n",
      "Layer (type)                    Output Shape         Param #     Connected to                     \n",
      "==================================================================================================\n",
      "input_stim (InputLayer)         (None, 256)          0                                            \n",
      "__________________________________________________________________________________________________\n",
      "exc_filter (Dense)              (None, 3)            771         input_stim[0][0]                 \n",
      "__________________________________________________________________________________________________\n",
      "sup_filter (Dense)              (None, 2)            514         input_stim[0][0]                 \n",
      "__________________________________________________________________________________________________\n",
      "excitatory_wts (Dense)          (None, 3)            12          exc_filter[0][0]                 \n",
      "__________________________________________________________________________________________________\n",
      "suppressive_wts (Dense)         (None, 2)            6           sup_filter[0][0]                 \n",
      "__________________________________________________________________________________________________\n",
      "lambda_13 (Lambda)              (None, 1)            0           excitatory_wts[0][0]             \n",
      "__________________________________________________________________________________________________\n",
      "lambda_14 (Lambda)              (None, 1)            0           suppressive_wts[0][0]            \n",
      "__________________________________________________________________________________________________\n",
      "concatenate_7 (Concatenate)     (None, 2)            0           lambda_13[0][0]                  \n",
      "                                                                 lambda_14[0][0]                  \n",
      "__________________________________________________________________________________________________\n",
      "dense_25 (Dense)                (None, 16)           48          concatenate_7[0][0]              \n",
      "__________________________________________________________________________________________________\n",
      "dense_26 (Dense)                (None, 16)           272         dense_25[0][0]                   \n",
      "__________________________________________________________________________________________________\n",
      "dense_27 (Dense)                (None, 16)           272         dense_26[0][0]                   \n",
      "__________________________________________________________________________________________________\n",
      "dense_28 (Dense)                (None, 1)            17          dense_27[0][0]                   \n",
      "==================================================================================================\n",
      "Total params: 1,912\n",
      "Trainable params: 1,912\n",
      "Non-trainable params: 0\n",
      "__________________________________________________________________________________________________\n"
     ]
    }
   ],
   "source": [
    "mod.summary()"
   ]
  },
  {
   "cell_type": "code",
   "execution_count": 14,
   "metadata": {},
   "outputs": [],
   "source": [
    "weights = []\n",
    "for layer in model.layers:\n",
    "    weights.append(layer.get_weights())"
   ]
  },
  {
   "cell_type": "code",
   "execution_count": 18,
   "metadata": {},
   "outputs": [
    {
     "data": {
      "image/png": "[encoded data removed]",
      "text/plain": [
       "<matplotlib.figure.Figure at 0x182c9bb38>"
      ]
     },
     "metadata": {},
     "output_type": "display_data"
    },
    {
     "data": {
      "image/png": "[encoded data removed]",
      "text/plain": [
       "<matplotlib.figure.Figure at 0x18188d128>"
      ]
     },
     "metadata": {},
     "output_type": "display_data"
    },
    {
     "data": {
      "image/png": "[encoded data removed]",
      "text/plain": [
       "<matplotlib.figure.Figure at 0x181849e80>"
      ]
     },
     "metadata": {},
     "output_type": "display_data"
    }
   ],
   "source": [
    "for i in range(3):\n",
    "    w = weights[1][0][:,i].reshape(16,16)\n",
    "    w /= np.linalg.norm(w)\n",
    "    plt.imshow(w, interpolation='nearest', cmap='Purples')\n",
    "    plt.show()"
   ]
  },
  {
   "cell_type": "code",
   "execution_count": 19,
   "metadata": {},
   "outputs": [
    {
     "data": {
      "image/png": "[encoded data removed]",
      "text/plain": [
       "<matplotlib.figure.Figure at 0x1819e0710>"
      ]
     },
     "metadata": {},
     "output_type": "display_data"
    },
    {
     "data": {
      "image/png": "[encoded data removed]",
      "text/plain": [
       "<matplotlib.figure.Figure at 0x1817e7400>"
      ]
     },
     "metadata": {},
     "output_type": "display_data"
    }
   ],
   "source": [
    "for i in range(2):\n",
    "    w = weights[2][0][:,i].reshape(16,16)\n",
    "    w /= np.linalg.norm(w)\n",
    "    plt.imshow(w, interpolation='nearest', cmap='Purples')\n",
    "    plt.show()"
   ]
  },
  {
   "cell_type": "code",
   "execution_count": 10,
   "metadata": {},
   "outputs": [],
   "source": [
    "def normalize(f):\n",
    "    mu = np.mean(f)\n",
    "    var = np.var(f)\n",
    "    eps = 1e-7\n",
    "    return (f - mu) / np.sqrt(var + eps)"
   ]
  },
  {
   "cell_type": "code",
   "execution_count": 15,
   "metadata": {},
   "outputs": [
    {
     "ename": "IndexError",
     "evalue": "list index out of range",
     "output_type": "error",
     "traceback": [
      "\u001b[0;31m---------------------------------------------------------------------------\u001b[0m",
      "\u001b[0;31mIndexError\u001b[0m                                Traceback (most recent call last)",
      "\u001b[0;32m<ipython-input-15-802190c8d897>\u001b[0m in \u001b[0;36m<module>\u001b[0;34m()\u001b[0m\n\u001b[1;32m      1\u001b[0m \u001b[0;32mfor\u001b[0m \u001b[0mi\u001b[0m \u001b[0;32min\u001b[0m \u001b[0mrange\u001b[0m\u001b[0;34m(\u001b[0m\u001b[0;36m5\u001b[0m\u001b[0;34m)\u001b[0m\u001b[0;34m:\u001b[0m\u001b[0;34m\u001b[0m\u001b[0m\n\u001b[0;32m----> 2\u001b[0;31m     \u001b[0mfilt\u001b[0m \u001b[0;34m=\u001b[0m \u001b[0mweights\u001b[0m\u001b[0;34m[\u001b[0m\u001b[0;36m0\u001b[0m\u001b[0;34m]\u001b[0m\u001b[0;34m[\u001b[0m\u001b[0;36m0\u001b[0m\u001b[0;34m]\u001b[0m\u001b[0;34m[\u001b[0m\u001b[0;34m:\u001b[0m\u001b[0;34m,\u001b[0m\u001b[0mi\u001b[0m\u001b[0;34m]\u001b[0m\u001b[0;34m\u001b[0m\u001b[0m\n\u001b[0m\u001b[1;32m      3\u001b[0m     \u001b[0mprint\u001b[0m \u001b[0;34m(\u001b[0m\u001b[0mnp\u001b[0m\u001b[0;34m.\u001b[0m\u001b[0mmax\u001b[0m\u001b[0;34m(\u001b[0m\u001b[0mweights\u001b[0m\u001b[0;34m[\u001b[0m\u001b[0;36m0\u001b[0m\u001b[0;34m]\u001b[0m\u001b[0;34m[\u001b[0m\u001b[0;36m0\u001b[0m\u001b[0;34m]\u001b[0m\u001b[0;34m[\u001b[0m\u001b[0;34m:\u001b[0m\u001b[0;34m,\u001b[0m\u001b[0mi\u001b[0m\u001b[0;34m]\u001b[0m\u001b[0;34m)\u001b[0m\u001b[0;34m)\u001b[0m\u001b[0;34m\u001b[0m\u001b[0m\n\u001b[1;32m      4\u001b[0m     \u001b[0mprint\u001b[0m \u001b[0;34m(\u001b[0m\u001b[0mnp\u001b[0m\u001b[0;34m.\u001b[0m\u001b[0mmin\u001b[0m\u001b[0;34m(\u001b[0m\u001b[0mweights\u001b[0m\u001b[0;34m[\u001b[0m\u001b[0;36m0\u001b[0m\u001b[0;34m]\u001b[0m\u001b[0;34m[\u001b[0m\u001b[0;36m0\u001b[0m\u001b[0;34m]\u001b[0m\u001b[0;34m[\u001b[0m\u001b[0;34m:\u001b[0m\u001b[0;34m,\u001b[0m\u001b[0mi\u001b[0m\u001b[0;34m]\u001b[0m\u001b[0;34m)\u001b[0m\u001b[0;34m)\u001b[0m\u001b[0;34m\u001b[0m\u001b[0m\n\u001b[1;32m      5\u001b[0m     \u001b[0;32mif\u001b[0m \u001b[0mnp\u001b[0m\u001b[0;34m.\u001b[0m\u001b[0mabs\u001b[0m\u001b[0;34m(\u001b[0m\u001b[0mnp\u001b[0m\u001b[0;34m.\u001b[0m\u001b[0mmax\u001b[0m\u001b[0;34m(\u001b[0m\u001b[0mfilt\u001b[0m\u001b[0;34m)\u001b[0m\u001b[0;34m)\u001b[0m \u001b[0;34m>=\u001b[0m \u001b[0mnp\u001b[0m\u001b[0;34m.\u001b[0m\u001b[0mabs\u001b[0m\u001b[0;34m(\u001b[0m\u001b[0mnp\u001b[0m\u001b[0;34m.\u001b[0m\u001b[0mmin\u001b[0m\u001b[0;34m(\u001b[0m\u001b[0mfilt\u001b[0m\u001b[0;34m)\u001b[0m\u001b[0;34m)\u001b[0m\u001b[0;34m:\u001b[0m \u001b[0mprint\u001b[0m \u001b[0;34m(\u001b[0m\u001b[0;34m'Excitatory:'\u001b[0m\u001b[0;34m)\u001b[0m\u001b[0;34m;\u001b[0m\u001b[0;34m\u001b[0m\u001b[0m\n",
      "\u001b[0;31mIndexError\u001b[0m: list index out of range"
     ]
    }
   ],
   "source": [
    "for i in range(5):\n",
    "    filt = weights[0][0][:,i]\n",
    "    print (np.max(weights[0][0][:,i]))\n",
    "    print (np.min(weights[0][0][:,i]))\n",
    "    if np.abs(np.max(filt)) >= np.abs(np.min(filt)): print ('Excitatory:');\n",
    "    else: print ('Inhibitory:')\n",
    "    w = weights[0][0][:,i].reshape(16,16)\n",
    "    plt.imshow(w/np.linalg.norm(w), interpolation='nearest', cmap='bone')\n",
    "    #plt.imshow(normalize(filt).reshape(16,16), interpolation='nearest', cmap='hot')\n",
    "    plt.colorbar()\n",
    "    plt.show()"
   ]
  },
  {
   "cell_type": "code",
   "execution_count": 4,
   "metadata": {},
   "outputs": [
    {
     "name": "stdout",
     "output_type": "stream",
     "text": [
      "(256, 3)\n"
     ]
    }
   ],
   "source": [
    "E = np.hstack([weights[0][0][:,i].reshape(-1,1) for i in [0,1,3]])\n",
    "print (E.shape)\n",
    "S = np.hstack([weights[0][0][:,i].reshape(-1,1) for i in [2,4]])\n",
    "H = 32"
   ]
  },
  {
   "cell_type": "code",
   "execution_count": 5,
   "metadata": {},
   "outputs": [],
   "source": [
    "es_model = gen_ES_model(E, S, H, dim=256, L=2, verbose=True)"
   ]
  },
  {
   "cell_type": "code",
   "execution_count": 6,
   "metadata": {},
   "outputs": [
    {
     "name": "stdout",
     "output_type": "stream",
     "text": [
      "__________________________________________________________________________________________________\n",
      "Layer (type)                    Output Shape         Param #     Connected to                     \n",
      "==================================================================================================\n",
      "input_stim (InputLayer)         (None, 256)          0                                            \n",
      "__________________________________________________________________________________________________\n",
      "exc_linear (Dense)              (None, 3)            771         input_stim[0][0]                 \n",
      "__________________________________________________________________________________________________\n",
      "sup_linear (Dense)              (None, 2)            514         input_stim[0][0]                 \n",
      "__________________________________________________________________________________________________\n",
      "excitatory_filt (Dense)         (None, 3)            12          exc_linear[0][0]                 \n",
      "__________________________________________________________________________________________________\n",
      "suppressive_filt (Dense)        (None, 2)            6           sup_linear[0][0]                 \n",
      "__________________________________________________________________________________________________\n",
      "lambda_1 (Lambda)               (None, 1)            0           excitatory_filt[0][0]            \n",
      "__________________________________________________________________________________________________\n",
      "lambda_2 (Lambda)               (None, 1)            0           suppressive_filt[0][0]           \n",
      "__________________________________________________________________________________________________\n",
      "concatenate_1 (Concatenate)     (None, 2)            0           lambda_1[0][0]                   \n",
      "                                                                 lambda_2[0][0]                   \n",
      "__________________________________________________________________________________________________\n",
      "dense_1 (Dense)                 (None, 32)           96          concatenate_1[0][0]              \n",
      "__________________________________________________________________________________________________\n",
      "dense_2 (Dense)                 (None, 32)           1056        dense_1[0][0]                    \n",
      "__________________________________________________________________________________________________\n",
      "dense_3 (Dense)                 (None, 1)            33          dense_2[0][0]                    \n",
      "==================================================================================================\n",
      "Total params: 2,488\n",
      "Trainable params: 1,203\n",
      "Non-trainable params: 1,285\n",
      "__________________________________________________________________________________________________\n"
     ]
    }
   ],
   "source": [
    "es_model.summary()"
   ]
  },
  {
   "cell_type": "markdown",
   "metadata": {},
   "source": [
    "**Excitatory-Suppressive Model** \n",
    "\n",
    "(inspired by Rust et al. '05)"
   ]
  },
  {
   "cell_type": "code",
   "execution_count": 20,
   "metadata": {},
   "outputs": [],
   "source": [
    "def get_E_and_S(model, n_filts):\n",
    "    \"\"\"\n",
    "    Extract excitatory and suppressive filters from a given model. \n",
    "    \n",
    "    Args: \n",
    "        model: a trained Keras model\n",
    "        \n",
    "    Returns: \n",
    "        E: stacked excitatory filters (numpy ndarray)\n",
    "        S: stacked suppressive filters (numpy ndarray)\n",
    "    \"\"\"\n",
    "    weights = []\n",
    "    for layer in model.layers:\n",
    "        weights.append(layer.get_weights())\n",
    "        \n",
    "    filters = weights[0][0]\n",
    "    filters = filters[:,:n_filts]\n",
    "    \n",
    "    # heuristic to ID E and S: E if max value > min, S if min > max\n",
    "    Es = []\n",
    "    Ss = []\n",
    "    for i in range(filters.shape[1]):\n",
    "        filt = filters[:,i]\n",
    "        if np.abs(np.max(filt)) >= np.abs(np.min(filt)): Es.append(i);\n",
    "        else: Ss.append(i);\n",
    "    \n",
    "    # if model lacks excitatory and/or suppressive filters\n",
    "    if len(Es) > 0: E = np.hstack([filters[:,i].reshape(-1,1) for i in Es]);\n",
    "    else: E = np.random.randn(filters.shape[0]).reshape(-1,1)\n",
    "    if len(Ss) > 0: S = np.hstack([filters[:,i].reshape(-1,1) for i in Ss]);\n",
    "    else: S = np.random.randn(filters.shape[0]).reshape(-1,1)\n",
    "    \n",
    "    return E,S"
   ]
  },
  {
   "cell_type": "markdown",
   "metadata": {},
   "source": [
    "training pipeline"
   ]
  },
  {
   "cell_type": "code",
   "execution_count": 12,
   "metadata": {},
   "outputs": [
    {
     "name": "stdout",
     "output_type": "stream",
     "text": [
      "building data...\n",
      "fetching repeat data...\n",
      "done.\n",
      "\u001b[1mloading checkpoint...\u001b[0m\n",
      "building data...\n",
      "fetching repeat data...\n",
      "done.\n",
      "loading fc...\n",
      "\u001b[1msaving checkpoint...\n",
      "\u001b[0m\n",
      "\u001b[1msaving checkpoint...\n",
      "\u001b[0m\n",
      "\u001b[1msaving checkpoint...\n",
      "\u001b[0m\n",
      "\u001b[1msaving checkpoint...\n",
      "\u001b[0m\n",
      "\u001b[1msaving checkpoint...\n",
      "\u001b[0m\n",
      "\u001b[1msaving checkpoint...\n",
      "\u001b[0m\n",
      "\u001b[1msaving checkpoint...\n",
      "\u001b[0m\n",
      "\u001b[1msaving checkpoint...\n",
      "\u001b[0m\n",
      "\u001b[1msaving checkpoint...\n",
      "\u001b[0m\n",
      "\u001b[1msaving checkpoint...\n",
      "\u001b[0m\n",
      "\u001b[1msaving checkpoint...\n",
      "\u001b[0m\n",
      "\u001b[1msaving checkpoint...\n",
      "\u001b[0m\n",
      "\u001b[1msaving checkpoint...\n",
      "\u001b[0m\n",
      "\u001b[1msaving checkpoint...\n",
      "\u001b[0m\n",
      "\u001b[1msaving checkpoint...\n",
      "\u001b[0m\n",
      "\u001b[1msaving checkpoint...\n",
      "\u001b[0m\n",
      "building data...\n",
      "fetching repeat data...\n",
      "done.\n",
      "loading fc...\n",
      "building data...\n",
      "fetching repeat data...\n",
      "done.\n",
      "loading fc...\n",
      "============================================================\n",
      "\u001b[1mTraining Model on Cell 3 of 3 with depth of 0 and width of 16\u001b[0m\n",
      "Train on 68801 samples, validate on 9828 samples\n",
      "Epoch 1/10\n",
      "68801/68801 [==============================] - 4s 51us/step - loss: 0.8051 - val_loss: 0.7730\n",
      "Epoch 2/10\n",
      "68801/68801 [==============================] - 2s 30us/step - loss: 0.7259 - val_loss: 0.7196\n",
      "Epoch 3/10\n",
      "68801/68801 [==============================] - 2s 29us/step - loss: 0.6930 - val_loss: 0.6974\n",
      "Epoch 4/10\n",
      "68801/68801 [==============================] - 2s 30us/step - loss: 0.6777 - val_loss: 0.6849\n",
      "Epoch 5/10\n",
      "68801/68801 [==============================] - 2s 30us/step - loss: 0.6666 - val_loss: 0.6748\n",
      "Epoch 6/10\n",
      "68801/68801 [==============================] - 2s 30us/step - loss: 0.6571 - val_loss: 0.6662\n",
      "Epoch 7/10\n",
      "68801/68801 [==============================] - 2s 30us/step - loss: 0.6489 - val_loss: 0.6589\n",
      "Epoch 8/10\n",
      "68801/68801 [==============================] - 2s 30us/step - loss: 0.6419 - val_loss: 0.6528\n",
      "Epoch 9/10\n",
      "68801/68801 [==============================] - 2s 29us/step - loss: 0.6362 - val_loss: 0.6480\n",
      "Epoch 10/10\n",
      "68801/68801 [==============================] - 2s 29us/step - loss: 0.6315 - val_loss: 0.6439\n",
      "bps:  0.135894293546\n",
      "r2:  0.0444850180285\n",
      " \n",
      "\u001b[1msaving checkpoint...\n",
      "\u001b[0m\n",
      "============================================================\n",
      "\u001b[1mTraining Model on Cell 3 of 3 with depth of 0 and width of 32\u001b[0m\n",
      "Train on 68801 samples, validate on 9828 samples\n",
      "Epoch 1/10\n",
      "68801/68801 [==============================] - 4s 59us/step - loss: 0.7511 - val_loss: 0.7303\n",
      "Epoch 2/10\n",
      "68801/68801 [==============================] - 2s 30us/step - loss: 0.7052 - val_loss: 0.7075\n",
      "Epoch 3/10\n",
      "68801/68801 [==============================] - 2s 30us/step - loss: 0.6863 - val_loss: 0.6918\n",
      "Epoch 4/10\n",
      "68801/68801 [==============================] - 2s 30us/step - loss: 0.6721 - val_loss: 0.6791\n",
      "Epoch 5/10\n",
      "68801/68801 [==============================] - 2s 30us/step - loss: 0.6604 - val_loss: 0.6684\n",
      "Epoch 6/10\n",
      "68801/68801 [==============================] - 2s 30us/step - loss: 0.6503 - val_loss: 0.6591\n",
      "Epoch 7/10\n",
      "68801/68801 [==============================] - 2s 30us/step - loss: 0.6415 - val_loss: 0.6511\n",
      "Epoch 8/10\n",
      "68801/68801 [==============================] - 2s 30us/step - loss: 0.6339 - val_loss: 0.6442\n",
      "Epoch 9/10\n",
      "68801/68801 [==============================] - 2s 32us/step - loss: 0.6272 - val_loss: 0.6385\n",
      "Epoch 10/10\n",
      "68801/68801 [==============================] - 3s 41us/step - loss: 0.6217 - val_loss: 0.6339\n",
      "bps:  0.19073225981\n",
      "r2:  0.0702977193758\n",
      " \n",
      "\u001b[1msaving checkpoint...\n",
      "\u001b[0m\n",
      "============================================================\n",
      "\u001b[1mTraining Model on Cell 3 of 3 with depth of 0 and width of 96\u001b[0m\n",
      "Train on 68801 samples, validate on 9828 samples\n",
      "Epoch 1/10\n",
      "68801/68801 [==============================] - 4s 62us/step - loss: 1.9909 - val_loss: 1.6583\n",
      "Epoch 2/10\n",
      "68801/68801 [==============================] - 3s 37us/step - loss: 1.4168 - val_loss: 1.2147\n",
      "Epoch 3/10\n",
      "68801/68801 [==============================] - 3s 40us/step - loss: 1.0715 - val_loss: 0.9576\n",
      "Epoch 4/10\n",
      "68801/68801 [==============================] - 2s 33us/step - loss: 0.8754 - val_loss: 0.8157\n",
      "Epoch 5/10\n",
      "68801/68801 [==============================] - 2s 30us/step - loss: 0.7690 - val_loss: 0.7404\n",
      "Epoch 6/10\n",
      "68801/68801 [==============================] - 2s 30us/step - loss: 0.7132 - val_loss: 0.7027\n",
      "Epoch 7/10\n",
      "68801/68801 [==============================] - 2s 29us/step - loss: 0.6862 - val_loss: 0.6863\n",
      "Epoch 8/10\n",
      "68801/68801 [==============================] - 2s 29us/step - loss: 0.6744 - val_loss: 0.6784\n",
      "Epoch 9/10\n",
      "68801/68801 [==============================] - 2s 29us/step - loss: 0.6674 - val_loss: 0.6730\n",
      "Epoch 10/10\n",
      "68801/68801 [==============================] - 2s 30us/step - loss: 0.6618 - val_loss: 0.6678\n",
      "bps:  -0.00937591349931\n",
      "r2:  0.007025698539\n",
      " \n",
      "\u001b[1msaving checkpoint...\n",
      "\u001b[0m\n",
      "============================================================\n",
      "\u001b[1mTraining Model on Cell 3 of 3 with depth of 0 and width of 128\u001b[0m\n",
      "Train on 68801 samples, validate on 9828 samples\n",
      "Epoch 1/10\n",
      "68801/68801 [==============================] - 4s 53us/step - loss: 0.7800 - val_loss: 0.7514\n",
      "Epoch 2/10\n",
      "68801/68801 [==============================] - 2s 33us/step - loss: 0.7211 - val_loss: 0.7166\n",
      "Epoch 3/10\n",
      "68801/68801 [==============================] - 2s 29us/step - loss: 0.6977 - val_loss: 0.6991\n",
      "Epoch 4/10\n",
      "68801/68801 [==============================] - 2s 30us/step - loss: 0.6826 - val_loss: 0.6861\n",
      "Epoch 5/10\n",
      "68801/68801 [==============================] - 2s 31us/step - loss: 0.6703 - val_loss: 0.6753\n",
      "Epoch 6/10\n",
      "68801/68801 [==============================] - 2s 36us/step - loss: 0.6595 - val_loss: 0.6657\n",
      "Epoch 7/10\n",
      "68801/68801 [==============================] - 2s 32us/step - loss: 0.6499 - val_loss: 0.6574\n",
      "Epoch 8/10\n",
      "68801/68801 [==============================] - 3s 48us/step - loss: 0.6416 - val_loss: 0.6505\n",
      "Epoch 9/10\n",
      "68801/68801 [==============================] - 4s 59us/step - loss: 0.6350 - val_loss: 0.6453\n",
      "Epoch 10/10\n",
      "68801/68801 [==============================] - 3s 38us/step - loss: 0.6298 - val_loss: 0.6411\n",
      "bps:  0.14812014672\n",
      "r2:  0.0491754320028\n",
      " \n",
      "\u001b[1msaving checkpoint...\n",
      "\u001b[0m\n",
      "============================================================\n",
      "\u001b[1mTraining Model on Cell 3 of 3 with depth of 1 and width of 16\u001b[0m\n",
      "Train on 68801 samples, validate on 9828 samples\n",
      "Epoch 1/14\n",
      "68801/68801 [==============================] - 4s 61us/step - loss: 0.6613 - val_loss: 0.6662\n",
      "Epoch 2/14\n",
      "68801/68801 [==============================] - 3s 36us/step - loss: 0.6509 - val_loss: 0.6598\n",
      "Epoch 3/14\n",
      "68801/68801 [==============================] - 3s 40us/step - loss: 0.6450 - val_loss: 0.6545\n",
      "Epoch 4/14\n",
      "68801/68801 [==============================] - 3s 50us/step - loss: 0.6394 - val_loss: 0.6496\n",
      "Epoch 5/14\n",
      "68801/68801 [==============================] - 3s 50us/step - loss: 0.6337 - val_loss: 0.6445\n",
      "Epoch 6/14\n",
      "68801/68801 [==============================] - 3s 41us/step - loss: 0.6280 - val_loss: 0.6396\n",
      "Epoch 7/14\n",
      "68801/68801 [==============================] - 2s 35us/step - loss: 0.6229 - val_loss: 0.6354\n",
      "Epoch 8/14\n",
      "68801/68801 [==============================] - 2s 36us/step - loss: 0.6185 - val_loss: 0.6320\n",
      "Epoch 9/14\n",
      "68801/68801 [==============================] - 2s 35us/step - loss: 0.6151 - val_loss: 0.6293\n",
      "Epoch 10/14\n",
      "68801/68801 [==============================] - 2s 35us/step - loss: 0.6124 - val_loss: 0.6270\n",
      "Epoch 11/14\n",
      "68801/68801 [==============================] - 3s 43us/step - loss: 0.6102 - val_loss: 0.6252\n",
      "Epoch 12/14\n",
      "68801/68801 [==============================] - 3s 37us/step - loss: 0.6085 - val_loss: 0.6239\n",
      "Epoch 13/14\n",
      "68801/68801 [==============================] - 2s 34us/step - loss: 0.6071 - val_loss: 0.6226\n",
      "Epoch 14/14\n",
      "68801/68801 [==============================] - 3s 38us/step - loss: 0.6060 - val_loss: 0.6217\n",
      "bps:  0.256834227547\n",
      "r2:  0.0938144796555\n",
      " \n",
      "\u001b[1msaving checkpoint...\n",
      "\u001b[0m\n",
      "============================================================\n",
      "\u001b[1mTraining Model on Cell 3 of 3 with depth of 1 and width of 32\u001b[0m\n",
      "Train on 68801 samples, validate on 9828 samples\n",
      "Epoch 1/14\n",
      "68801/68801 [==============================] - 4s 59us/step - loss: 0.6956 - val_loss: 0.6706\n",
      "Epoch 2/14\n",
      "68801/68801 [==============================] - 3s 51us/step - loss: 0.6556 - val_loss: 0.6623\n",
      "Epoch 3/14\n",
      "68801/68801 [==============================] - 4s 52us/step - loss: 0.6476 - val_loss: 0.6549\n",
      "Epoch 4/14\n"
     ]
    },
    {
     "name": "stdout",
     "output_type": "stream",
     "text": [
      "68801/68801 [==============================] - 3s 40us/step - loss: 0.6396 - val_loss: 0.6485\n",
      "Epoch 5/14\n",
      "68801/68801 [==============================] - 3s 42us/step - loss: 0.6326 - val_loss: 0.6428\n",
      "Epoch 6/14\n",
      "68801/68801 [==============================] - 3s 44us/step - loss: 0.6266 - val_loss: 0.6378\n",
      "Epoch 7/14\n",
      "68801/68801 [==============================] - 3s 43us/step - loss: 0.6217 - val_loss: 0.6335\n",
      "Epoch 8/14\n",
      "68801/68801 [==============================] - 3s 40us/step - loss: 0.6178 - val_loss: 0.6303\n",
      "Epoch 9/14\n",
      "68801/68801 [==============================] - 3s 42us/step - loss: 0.6145 - val_loss: 0.6273\n",
      "Epoch 10/14\n",
      "68801/68801 [==============================] - 3s 39us/step - loss: 0.6121 - val_loss: 0.6252\n",
      "Epoch 11/14\n",
      "68801/68801 [==============================] - 3s 42us/step - loss: 0.6101 - val_loss: 0.6234\n",
      "Epoch 12/14\n",
      "68801/68801 [==============================] - 3s 42us/step - loss: 0.6087 - val_loss: 0.6225\n",
      "Epoch 13/14\n",
      "68801/68801 [==============================] - 3s 43us/step - loss: 0.6075 - val_loss: 0.6212\n",
      "Epoch 14/14\n",
      "68801/68801 [==============================] - 3s 43us/step - loss: 0.6065 - val_loss: 0.6205\n",
      "bps:  0.259467583192\n",
      "r2:  0.0974945413758\n",
      " \n",
      "\u001b[1msaving checkpoint...\n",
      "\u001b[0m\n",
      "============================================================\n",
      "\u001b[1mTraining Model on Cell 3 of 3 with depth of 1 and width of 96\u001b[0m\n",
      "Train on 68801 samples, validate on 9828 samples\n",
      "Epoch 1/14\n",
      "68801/68801 [==============================] - 5s 74us/step - loss: 0.6750 - val_loss: 0.6588\n",
      "Epoch 2/14\n",
      "68801/68801 [==============================] - 3s 46us/step - loss: 0.6663 - val_loss: 0.6553\n",
      "Epoch 3/14\n",
      "68801/68801 [==============================] - 3s 47us/step - loss: 0.6592 - val_loss: 0.6498\n",
      "Epoch 4/14\n",
      "68801/68801 [==============================] - 3s 47us/step - loss: 0.6508 - val_loss: 0.6448\n",
      "Epoch 5/14\n",
      "68801/68801 [==============================] - 3s 41us/step - loss: 0.6429 - val_loss: 0.6409\n",
      "Epoch 6/14\n",
      "68801/68801 [==============================] - 3s 41us/step - loss: 0.6367 - val_loss: 0.6365\n",
      "Epoch 7/14\n",
      "68801/68801 [==============================] - 3s 41us/step - loss: 0.6322 - val_loss: 0.6342\n",
      "Epoch 8/14\n",
      "68801/68801 [==============================] - 4s 54us/step - loss: 0.6286 - val_loss: 0.6318\n",
      "Epoch 9/14\n",
      "68801/68801 [==============================] - 3s 47us/step - loss: 0.6245 - val_loss: 0.6296\n",
      "Epoch 10/14\n",
      "68801/68801 [==============================] - 3s 49us/step - loss: 0.6219 - val_loss: 0.6272\n",
      "Epoch 11/14\n",
      "68801/68801 [==============================] - 3s 49us/step - loss: 0.6181 - val_loss: 0.6256\n",
      "Epoch 12/14\n",
      "68801/68801 [==============================] - 3s 47us/step - loss: 0.6175 - val_loss: 0.6248\n",
      "Epoch 13/14\n",
      "68801/68801 [==============================] - 3s 48us/step - loss: 0.6152 - val_loss: 0.6237\n",
      "Epoch 14/14\n",
      "68801/68801 [==============================] - 3s 49us/step - loss: 0.6143 - val_loss: 0.6227\n",
      "bps:  0.250104124626\n",
      "r2:  0.0964588513577\n",
      " \n",
      "\u001b[1msaving checkpoint...\n",
      "\u001b[0m\n",
      "============================================================\n",
      "\u001b[1mTraining Model on Cell 3 of 3 with depth of 1 and width of 128\u001b[0m\n",
      "Train on 68801 samples, validate on 9828 samples\n",
      "Epoch 1/14\n",
      "68801/68801 [==============================] - 5s 74us/step - loss: 0.7111 - val_loss: 0.6612\n",
      "Epoch 2/14\n",
      "68801/68801 [==============================] - 3s 49us/step - loss: 0.6815 - val_loss: 0.6544\n",
      "Epoch 3/14\n",
      "68801/68801 [==============================] - 3s 45us/step - loss: 0.6672 - val_loss: 0.6505\n",
      "Epoch 4/14\n",
      "68801/68801 [==============================] - 3s 43us/step - loss: 0.6562 - val_loss: 0.6462\n",
      "Epoch 5/14\n",
      "68801/68801 [==============================] - 3s 46us/step - loss: 0.6481 - val_loss: 0.6437\n",
      "Epoch 6/14\n",
      "68801/68801 [==============================] - 4s 52us/step - loss: 0.6416 - val_loss: 0.6399\n",
      "Epoch 7/14\n",
      "68801/68801 [==============================] - 3s 49us/step - loss: 0.6360 - val_loss: 0.6375\n",
      "Epoch 8/14\n",
      "68801/68801 [==============================] - 3s 42us/step - loss: 0.6309 - val_loss: 0.6345\n",
      "Epoch 9/14\n",
      "68801/68801 [==============================] - 3s 37us/step - loss: 0.6268 - val_loss: 0.6327\n",
      "Epoch 10/14\n",
      "68801/68801 [==============================] - 3s 37us/step - loss: 0.6252 - val_loss: 0.6300\n",
      "Epoch 11/14\n",
      "68801/68801 [==============================] - 3s 37us/step - loss: 0.6216 - val_loss: 0.6282\n",
      "Epoch 12/14\n",
      "68801/68801 [==============================] - 3s 37us/step - loss: 0.6192 - val_loss: 0.6266\n",
      "Epoch 13/14\n",
      "68801/68801 [==============================] - 3s 37us/step - loss: 0.6173 - val_loss: 0.6259\n",
      "Epoch 14/14\n",
      "68801/68801 [==============================] - 3s 39us/step - loss: 0.6152 - val_loss: 0.6251\n",
      "bps:  0.239026526141\n",
      "r2:  0.0930259340852\n",
      " \n",
      "\u001b[1msaving checkpoint...\n",
      "\u001b[0m\n",
      "============================================================\n",
      "\u001b[1mTraining Model on Cell 3 of 3 with depth of 2 and width of 16\u001b[0m\n",
      "Train on 68801 samples, validate on 9828 samples\n",
      "Epoch 1/18\n",
      "68801/68801 [==============================] - 6s 88us/step - loss: 0.8353 - val_loss: 0.6797\n",
      "Epoch 2/18\n",
      "68801/68801 [==============================] - 3s 41us/step - loss: 0.6607 - val_loss: 0.6663\n",
      "Epoch 3/18\n",
      "68801/68801 [==============================] - 3s 42us/step - loss: 0.6494 - val_loss: 0.6591\n",
      "Epoch 4/18\n",
      "68801/68801 [==============================] - 3s 39us/step - loss: 0.6431 - val_loss: 0.6544\n",
      "Epoch 5/18\n",
      "68801/68801 [==============================] - 3s 40us/step - loss: 0.6387 - val_loss: 0.6508\n",
      "Epoch 6/18\n",
      "68801/68801 [==============================] - 2s 36us/step - loss: 0.6346 - val_loss: 0.6472\n",
      "Epoch 7/18\n",
      "68801/68801 [==============================] - 3s 37us/step - loss: 0.6303 - val_loss: 0.6446\n",
      "Epoch 8/18\n",
      "68801/68801 [==============================] - 4s 51us/step - loss: 0.6261 - val_loss: 0.6401\n",
      "Epoch 9/18\n",
      "68801/68801 [==============================] - 2s 35us/step - loss: 0.6222 - val_loss: 0.6363\n",
      "Epoch 10/18\n",
      "68801/68801 [==============================] - 3s 43us/step - loss: 0.6186 - val_loss: 0.6330\n",
      "Epoch 11/18\n",
      "68801/68801 [==============================] - 4s 53us/step - loss: 0.6156 - val_loss: 0.6307\n",
      "Epoch 12/18\n",
      "68801/68801 [==============================] - 2s 36us/step - loss: 0.6131 - val_loss: 0.6280\n",
      "Epoch 13/18\n",
      "68801/68801 [==============================] - 2s 36us/step - loss: 0.6110 - val_loss: 0.6266\n",
      "Epoch 14/18\n",
      "68801/68801 [==============================] - 2s 35us/step - loss: 0.6093 - val_loss: 0.6247\n",
      "Epoch 15/18\n",
      "68801/68801 [==============================] - 2s 35us/step - loss: 0.6079 - val_loss: 0.6235\n",
      "Epoch 16/18\n",
      "68801/68801 [==============================] - 2s 34us/step - loss: 0.6067 - val_loss: 0.6225\n",
      "Epoch 17/18\n",
      "68801/68801 [==============================] - 2s 34us/step - loss: 0.6058 - val_loss: 0.6218\n",
      "Epoch 18/18\n",
      "68801/68801 [==============================] - 2s 34us/step - loss: 0.6050 - val_loss: 0.6212\n",
      "bps:  0.262260977451\n",
      "r2:  0.0958348931\n",
      " \n",
      "\u001b[1msaving checkpoint...\n",
      "\u001b[0m\n",
      "============================================================\n",
      "\u001b[1mTraining Model on Cell 3 of 3 with depth of 2 and width of 32\u001b[0m\n",
      "Train on 68801 samples, validate on 9828 samples\n",
      "Epoch 1/18\n",
      "68801/68801 [==============================] - 4s 60us/step - loss: 0.7147 - val_loss: 0.6654\n",
      "Epoch 2/18\n",
      "68801/68801 [==============================] - 2s 35us/step - loss: 0.6544 - val_loss: 0.6629\n",
      "Epoch 3/18\n",
      "68801/68801 [==============================] - 2s 35us/step - loss: 0.6523 - val_loss: 0.6602\n",
      "Epoch 4/18\n",
      "68801/68801 [==============================] - 2s 36us/step - loss: 0.6496 - val_loss: 0.6571\n",
      "Epoch 5/18\n",
      "68801/68801 [==============================] - 2s 35us/step - loss: 0.6455 - val_loss: 0.6532\n",
      "Epoch 6/18\n",
      "68801/68801 [==============================] - 2s 34us/step - loss: 0.6405 - val_loss: 0.6488\n",
      "Epoch 7/18\n",
      "68801/68801 [==============================] - 2s 35us/step - loss: 0.6354 - val_loss: 0.6441\n",
      "Epoch 8/18\n",
      "68801/68801 [==============================] - 2s 35us/step - loss: 0.6303 - val_loss: 0.6404\n",
      "Epoch 9/18\n",
      "68801/68801 [==============================] - 2s 35us/step - loss: 0.6257 - val_loss: 0.6364\n",
      "Epoch 10/18\n",
      "68801/68801 [==============================] - 2s 36us/step - loss: 0.6215 - val_loss: 0.6333\n",
      "Epoch 11/18\n",
      "68801/68801 [==============================] - 3s 38us/step - loss: 0.6179 - val_loss: 0.6305\n",
      "Epoch 12/18\n",
      "68801/68801 [==============================] - 2s 36us/step - loss: 0.6148 - val_loss: 0.6278\n",
      "Epoch 13/18\n",
      "68801/68801 [==============================] - 2s 35us/step - loss: 0.6124 - val_loss: 0.6256\n",
      "Epoch 14/18\n",
      "68801/68801 [==============================] - 3s 40us/step - loss: 0.6104 - val_loss: 0.6241\n",
      "Epoch 15/18\n",
      "68801/68801 [==============================] - 3s 40us/step - loss: 0.6087 - val_loss: 0.6230\n",
      "Epoch 16/18\n",
      "68801/68801 [==============================] - 3s 45us/step - loss: 0.6074 - val_loss: 0.6217\n",
      "Epoch 17/18\n",
      "68801/68801 [==============================] - 4s 55us/step - loss: 0.6064 - val_loss: 0.6209\n",
      "Epoch 18/18\n",
      "68801/68801 [==============================] - 3s 41us/step - loss: 0.6055 - val_loss: 0.6201\n",
      "bps:  0.263232350085\n",
      "r2:  0.0992627691457\n",
      " \n",
      "\u001b[1msaving checkpoint...\n",
      "\u001b[0m\n",
      "============================================================\n",
      "\u001b[1mTraining Model on Cell 3 of 3 with depth of 2 and width of 96\u001b[0m\n",
      "Train on 68801 samples, validate on 9828 samples\n",
      "Epoch 1/18\n",
      "68801/68801 [==============================] - 5s 71us/step - loss: 0.6768 - val_loss: 0.6604\n",
      "Epoch 2/18\n",
      "68801/68801 [==============================] - 3s 45us/step - loss: 0.6581 - val_loss: 0.6563\n",
      "Epoch 3/18\n",
      "68801/68801 [==============================] - 3s 45us/step - loss: 0.6505 - val_loss: 0.6524\n",
      "Epoch 4/18\n",
      "68801/68801 [==============================] - 3s 45us/step - loss: 0.6451 - val_loss: 0.6487\n",
      "Epoch 5/18\n",
      "68801/68801 [==============================] - 3s 45us/step - loss: 0.6400 - val_loss: 0.6469\n",
      "Epoch 6/18\n",
      "68801/68801 [==============================] - 3s 45us/step - loss: 0.6352 - val_loss: 0.6424\n",
      "Epoch 7/18\n",
      "68801/68801 [==============================] - 3s 45us/step - loss: 0.6324 - val_loss: 0.6399\n",
      "Epoch 8/18\n",
      "68801/68801 [==============================] - 3s 46us/step - loss: 0.6283 - val_loss: 0.6375\n",
      "Epoch 9/18\n",
      "68801/68801 [==============================] - 3s 46us/step - loss: 0.6268 - val_loss: 0.6355\n",
      "Epoch 10/18\n",
      "68801/68801 [==============================] - 3s 46us/step - loss: 0.6249 - val_loss: 0.6340\n",
      "Epoch 11/18\n",
      "68801/68801 [==============================] - 3s 45us/step - loss: 0.6236 - val_loss: 0.6331\n",
      "Epoch 12/18\n",
      "68801/68801 [==============================] - 3s 48us/step - loss: 0.6231 - val_loss: 0.6318\n",
      "Epoch 13/18\n",
      "68801/68801 [==============================] - 3s 47us/step - loss: 0.6206 - val_loss: 0.6315\n",
      "Epoch 14/18\n",
      "68801/68801 [==============================] - 3s 45us/step - loss: 0.6205 - val_loss: 0.6307\n",
      "Epoch 15/18\n",
      "68801/68801 [==============================] - 3s 45us/step - loss: 0.6199 - val_loss: 0.6302\n",
      "Epoch 16/18\n",
      "68801/68801 [==============================] - 3s 46us/step - loss: 0.6193 - val_loss: 0.6297\n",
      "Epoch 17/18\n",
      "68801/68801 [==============================] - 3s 45us/step - loss: 0.6189 - val_loss: 0.6293\n",
      "Epoch 18/18\n",
      "68801/68801 [==============================] - 3s 45us/step - loss: 0.6178 - val_loss: 0.6297\n",
      "bps:  0.213971953273\n",
      "r2:  0.0764804472513\n",
      " \n",
      "\u001b[1msaving checkpoint...\n",
      "\u001b[0m\n",
      "============================================================\n",
      "\u001b[1mTraining Model on Cell 3 of 3 with depth of 2 and width of 128\u001b[0m\n",
      "Train on 68801 samples, validate on 9828 samples\n",
      "Epoch 1/18\n",
      "68801/68801 [==============================] - 5s 76us/step - loss: 0.7283 - val_loss: 0.6597\n",
      "Epoch 2/18\n",
      "68801/68801 [==============================] - 3s 50us/step - loss: 0.6691 - val_loss: 0.6567\n",
      "Epoch 3/18\n",
      "68801/68801 [==============================] - 4s 52us/step - loss: 0.6570 - val_loss: 0.6533\n",
      "Epoch 4/18\n",
      "68801/68801 [==============================] - 4s 52us/step - loss: 0.6484 - val_loss: 0.6492\n",
      "Epoch 5/18\n",
      "68801/68801 [==============================] - 4s 56us/step - loss: 0.6437 - val_loss: 0.6447\n",
      "Epoch 6/18\n",
      "68801/68801 [==============================] - 3s 51us/step - loss: 0.6397 - val_loss: 0.6407\n",
      "Epoch 7/18\n",
      "68801/68801 [==============================] - 3s 51us/step - loss: 0.6333 - val_loss: 0.6364\n",
      "Epoch 8/18\n",
      "68801/68801 [==============================] - 3s 50us/step - loss: 0.6312 - val_loss: 0.6336\n",
      "Epoch 9/18\n",
      "68801/68801 [==============================] - 3s 50us/step - loss: 0.6277 - val_loss: 0.6304\n",
      "Epoch 10/18\n",
      "68801/68801 [==============================] - 3s 50us/step - loss: 0.6241 - val_loss: 0.6287\n",
      "Epoch 11/18\n",
      "68801/68801 [==============================] - 4s 51us/step - loss: 0.6206 - val_loss: 0.6263\n",
      "Epoch 12/18\n",
      "68801/68801 [==============================] - 4s 52us/step - loss: 0.6178 - val_loss: 0.6241\n",
      "Epoch 13/18\n",
      "68801/68801 [==============================] - 4s 52us/step - loss: 0.6154 - val_loss: 0.6225\n",
      "Epoch 14/18\n",
      "68801/68801 [==============================] - 4s 56us/step - loss: 0.6151 - val_loss: 0.6221\n",
      "Epoch 15/18\n",
      "68801/68801 [==============================] - 4s 54us/step - loss: 0.6137 - val_loss: 0.6212\n",
      "Epoch 16/18\n",
      "68801/68801 [==============================] - 4s 52us/step - loss: 0.6119 - val_loss: 0.6204\n",
      "Epoch 17/18\n",
      "68801/68801 [==============================] - 4s 53us/step - loss: 0.6110 - val_loss: 0.6200\n",
      "Epoch 18/18\n",
      "68801/68801 [==============================] - 4s 51us/step - loss: 0.6107 - val_loss: 0.6195\n",
      "bps:  0.269008750463\n",
      "r2:  0.101876432085\n",
      " \n",
      "\u001b[1msaving checkpoint...\n",
      "\u001b[0m\n",
      "============================================================\n",
      "\u001b[1mTraining Model on Cell 3 of 3 with depth of 3 and width of 16\u001b[0m\n",
      "Train on 68801 samples, validate on 9828 samples\n",
      "Epoch 1/22\n",
      "68801/68801 [==============================] - 5s 66us/step - loss: 0.6872 - val_loss: 0.6667\n",
      "Epoch 2/22\n",
      "68801/68801 [==============================] - 3s 47us/step - loss: 0.6559 - val_loss: 0.6646\n",
      "Epoch 3/22\n",
      "68801/68801 [==============================] - 4s 55us/step - loss: 0.6532 - val_loss: 0.6611\n",
      "Epoch 4/22\n",
      "68801/68801 [==============================] - 3s 41us/step - loss: 0.6482 - val_loss: 0.6547\n",
      "Epoch 5/22\n",
      "68801/68801 [==============================] - 3s 44us/step - loss: 0.6403 - val_loss: 0.6466\n",
      "Epoch 6/22\n",
      "68801/68801 [==============================] - 3s 42us/step - loss: 0.6311 - val_loss: 0.6398\n",
      "Epoch 7/22\n",
      "68801/68801 [==============================] - 3s 39us/step - loss: 0.6239 - val_loss: 0.6343\n",
      "Epoch 8/22\n",
      "68801/68801 [==============================] - 3s 38us/step - loss: 0.6188 - val_loss: 0.6306\n",
      "Epoch 9/22\n",
      "68801/68801 [==============================] - 3s 38us/step - loss: 0.6148 - val_loss: 0.6295\n",
      "Epoch 10/22\n",
      "68801/68801 [==============================] - 3s 39us/step - loss: 0.6118 - val_loss: 0.6264\n",
      "Epoch 11/22\n",
      "68801/68801 [==============================] - 3s 37us/step - loss: 0.6094 - val_loss: 0.6254\n",
      "Epoch 12/22\n",
      "68801/68801 [==============================] - 3s 48us/step - loss: 0.6078 - val_loss: 0.6222\n",
      "Epoch 13/22\n",
      "68801/68801 [==============================] - 3s 40us/step - loss: 0.6063 - val_loss: 0.6212\n",
      "Epoch 14/22\n",
      "68801/68801 [==============================] - 3s 37us/step - loss: 0.6052 - val_loss: 0.6211\n",
      "Epoch 15/22\n",
      "68801/68801 [==============================] - 3s 38us/step - loss: 0.6043 - val_loss: 0.6201\n",
      "Epoch 16/22\n",
      "68801/68801 [==============================] - 4s 63us/step - loss: 0.6037 - val_loss: 0.6203\n",
      "Epoch 17/22\n",
      "68801/68801 [==============================] - 3s 39us/step - loss: 0.6032 - val_loss: 0.6189\n",
      "Epoch 18/22\n",
      "68801/68801 [==============================] - 3s 37us/step - loss: 0.6027 - val_loss: 0.6184\n",
      "Epoch 19/22\n",
      "68801/68801 [==============================] - 3s 38us/step - loss: 0.6022 - val_loss: 0.6182\n",
      "Epoch 20/22\n",
      "68801/68801 [==============================] - 3s 36us/step - loss: 0.6020 - val_loss: 0.6180\n",
      "Epoch 21/22\n",
      "68801/68801 [==============================] - 3s 37us/step - loss: 0.6018 - val_loss: 0.6179\n",
      "Epoch 22/22\n",
      "68801/68801 [==============================] - 3s 39us/step - loss: 0.6015 - val_loss: 0.6178\n",
      "bps:  0.281918562189\n",
      "r2:  0.104927209918\n",
      " \n",
      "\u001b[1msaving checkpoint...\n",
      "\u001b[0m\n",
      "============================================================\n",
      "\u001b[1mTraining Model on Cell 3 of 3 with depth of 3 and width of 32\u001b[0m\n",
      "Train on 68801 samples, validate on 9828 samples\n",
      "Epoch 1/22\n",
      "68801/68801 [==============================] - 5s 67us/step - loss: 0.7200 - val_loss: 0.6711\n",
      "Epoch 2/22\n",
      "68801/68801 [==============================] - 3s 39us/step - loss: 0.6558 - val_loss: 0.6627\n",
      "Epoch 3/22\n",
      "68801/68801 [==============================] - 3s 41us/step - loss: 0.6485 - val_loss: 0.6570\n",
      "Epoch 4/22\n"
     ]
    },
    {
     "name": "stdout",
     "output_type": "stream",
     "text": [
      "68801/68801 [==============================] - 3s 38us/step - loss: 0.6422 - val_loss: 0.6522\n",
      "Epoch 5/22\n",
      "68801/68801 [==============================] - 3s 40us/step - loss: 0.6365 - val_loss: 0.6465\n",
      "Epoch 6/22\n",
      "68801/68801 [==============================] - 3s 38us/step - loss: 0.6311 - val_loss: 0.6419\n",
      "Epoch 7/22\n",
      "68801/68801 [==============================] - 3s 38us/step - loss: 0.6262 - val_loss: 0.6377\n",
      "Epoch 8/22\n",
      "68801/68801 [==============================] - 3s 38us/step - loss: 0.6218 - val_loss: 0.6334\n",
      "Epoch 9/22\n",
      "68801/68801 [==============================] - 3s 39us/step - loss: 0.6178 - val_loss: 0.6315\n",
      "Epoch 10/22\n",
      "68801/68801 [==============================] - 3s 40us/step - loss: 0.6142 - val_loss: 0.6281\n",
      "Epoch 11/22\n",
      "68801/68801 [==============================] - 3s 38us/step - loss: 0.6115 - val_loss: 0.6253\n",
      "Epoch 12/22\n",
      "68801/68801 [==============================] - 3s 38us/step - loss: 0.6093 - val_loss: 0.6232\n",
      "Epoch 13/22\n",
      "68801/68801 [==============================] - 3s 38us/step - loss: 0.6076 - val_loss: 0.6218\n",
      "Epoch 14/22\n",
      "68801/68801 [==============================] - 3s 38us/step - loss: 0.6064 - val_loss: 0.6213\n",
      "Epoch 15/22\n",
      "68801/68801 [==============================] - 3s 42us/step - loss: 0.6054 - val_loss: 0.6198\n",
      "Epoch 16/22\n",
      "68801/68801 [==============================] - 3s 40us/step - loss: 0.6046 - val_loss: 0.6193\n",
      "Epoch 17/22\n",
      "68801/68801 [==============================] - 3s 38us/step - loss: 0.6039 - val_loss: 0.6204\n",
      "Epoch 18/22\n",
      "68801/68801 [==============================] - 3s 39us/step - loss: 0.6034 - val_loss: 0.6184\n",
      "Epoch 19/22\n",
      "68801/68801 [==============================] - 3s 38us/step - loss: 0.6028 - val_loss: 0.6189\n",
      "Epoch 20/22\n",
      "68801/68801 [==============================] - 3s 41us/step - loss: 0.6024 - val_loss: 0.6204\n",
      "Epoch 21/22\n",
      "68801/68801 [==============================] - 3s 40us/step - loss: 0.6023 - val_loss: 0.6174\n",
      "Epoch 22/22\n",
      "68801/68801 [==============================] - 3s 39us/step - loss: 0.6021 - val_loss: 0.6177\n",
      "bps:  0.280390252802\n",
      "r2:  0.104041897093\n",
      " \n",
      "\u001b[1msaving checkpoint...\n",
      "\u001b[0m\n",
      "============================================================\n",
      "\u001b[1mTraining Model on Cell 3 of 3 with depth of 3 and width of 96\u001b[0m\n",
      "Train on 68801 samples, validate on 9828 samples\n",
      "Epoch 1/22\n",
      "68801/68801 [==============================] - 6s 86us/step - loss: 0.6930 - val_loss: 0.6586\n",
      "Epoch 2/22\n",
      "68801/68801 [==============================] - 4s 57us/step - loss: 0.6594 - val_loss: 0.6541\n",
      "Epoch 3/22\n",
      "68801/68801 [==============================] - 4s 56us/step - loss: 0.6499 - val_loss: 0.6485\n",
      "Epoch 4/22\n",
      "68801/68801 [==============================] - 4s 59us/step - loss: 0.6418 - val_loss: 0.6439\n",
      "Epoch 5/22\n",
      "68801/68801 [==============================] - 4s 60us/step - loss: 0.6380 - val_loss: 0.6405\n",
      "Epoch 6/22\n",
      "68801/68801 [==============================] - 4s 55us/step - loss: 0.6321 - val_loss: 0.6365\n",
      "Epoch 7/22\n",
      "68801/68801 [==============================] - 4s 56us/step - loss: 0.6292 - val_loss: 0.6334\n",
      "Epoch 8/22\n",
      "68801/68801 [==============================] - 4s 55us/step - loss: 0.6255 - val_loss: 0.6312\n",
      "Epoch 9/22\n",
      "68801/68801 [==============================] - 4s 54us/step - loss: 0.6228 - val_loss: 0.6294\n",
      "Epoch 10/22\n",
      "68801/68801 [==============================] - 4s 54us/step - loss: 0.6193 - val_loss: 0.6279\n",
      "Epoch 11/22\n",
      "68801/68801 [==============================] - 4s 55us/step - loss: 0.6188 - val_loss: 0.6256\n",
      "Epoch 12/22\n",
      "68801/68801 [==============================] - 4s 55us/step - loss: 0.6166 - val_loss: 0.6241\n",
      "Epoch 13/22\n",
      "68801/68801 [==============================] - 4s 57us/step - loss: 0.6136 - val_loss: 0.6231\n",
      "Epoch 14/22\n",
      "68801/68801 [==============================] - 5s 72us/step - loss: 0.6132 - val_loss: 0.6221\n",
      "Epoch 15/22\n",
      "68801/68801 [==============================] - 5s 72us/step - loss: 0.6117 - val_loss: 0.6210\n",
      "Epoch 16/22\n",
      "68801/68801 [==============================] - 4s 64us/step - loss: 0.6113 - val_loss: 0.6215\n",
      "Epoch 17/22\n",
      "68801/68801 [==============================] - 4s 59us/step - loss: 0.6102 - val_loss: 0.6199\n",
      "Epoch 18/22\n",
      "68801/68801 [==============================] - 4s 55us/step - loss: 0.6096 - val_loss: 0.6190\n",
      "Epoch 19/22\n",
      "68801/68801 [==============================] - 4s 57us/step - loss: 0.6078 - val_loss: 0.6198\n",
      "Epoch 20/22\n",
      "68801/68801 [==============================] - 4s 55us/step - loss: 0.6083 - val_loss: 0.6186\n",
      "Epoch 21/22\n",
      "68801/68801 [==============================] - 4s 55us/step - loss: 0.6069 - val_loss: 0.6183\n",
      "Epoch 22/22\n",
      "68801/68801 [==============================] - 4s 55us/step - loss: 0.6066 - val_loss: 0.6183\n",
      "bps:  0.279120430455\n",
      "r2:  0.104744099959\n",
      " \n",
      "\u001b[1msaving checkpoint...\n",
      "\u001b[0m\n",
      "============================================================\n",
      "\u001b[1mTraining Model on Cell 3 of 3 with depth of 3 and width of 128\u001b[0m\n",
      "Train on 68801 samples, validate on 9828 samples\n",
      "Epoch 1/22\n",
      "68801/68801 [==============================] - 6s 93us/step - loss: 0.7116 - val_loss: 0.6656\n",
      "Epoch 2/22\n",
      "68801/68801 [==============================] - 5s 68us/step - loss: 0.6685 - val_loss: 0.6663\n",
      "Epoch 3/22\n",
      "68801/68801 [==============================] - 5s 67us/step - loss: 0.6620 - val_loss: 0.6636\n",
      "Epoch 4/22\n",
      "68801/68801 [==============================] - 5s 69us/step - loss: 0.6554 - val_loss: 0.6564\n",
      "Epoch 5/22\n",
      "68801/68801 [==============================] - 5s 66us/step - loss: 0.6458 - val_loss: 0.6429\n",
      "Epoch 6/22\n",
      "68801/68801 [==============================] - 5s 68us/step - loss: 0.6361 - val_loss: 0.6356\n",
      "Epoch 7/22\n",
      "68801/68801 [==============================] - 5s 68us/step - loss: 0.6320 - val_loss: 0.6327\n",
      "Epoch 8/22\n",
      "68801/68801 [==============================] - 5s 66us/step - loss: 0.6284 - val_loss: 0.6305\n",
      "Epoch 9/22\n",
      "68801/68801 [==============================] - 5s 66us/step - loss: 0.6247 - val_loss: 0.6259\n",
      "Epoch 10/22\n",
      "68801/68801 [==============================] - 5s 66us/step - loss: 0.6219 - val_loss: 0.6251\n",
      "Epoch 11/22\n",
      "68801/68801 [==============================] - 5s 67us/step - loss: 0.6208 - val_loss: 0.6245\n",
      "Epoch 12/22\n",
      "68801/68801 [==============================] - 4s 65us/step - loss: 0.6185 - val_loss: 0.6244\n",
      "Epoch 13/22\n",
      "68801/68801 [==============================] - 5s 68us/step - loss: 0.6161 - val_loss: 0.6216\n",
      "Epoch 14/22\n",
      "68801/68801 [==============================] - 4s 64us/step - loss: 0.6144 - val_loss: 0.6208\n",
      "Epoch 15/22\n",
      "68801/68801 [==============================] - 5s 80us/step - loss: 0.6126 - val_loss: 0.6200\n",
      "Epoch 16/22\n",
      "68801/68801 [==============================] - 6s 86us/step - loss: 0.6124 - val_loss: 0.6206\n",
      "Epoch 17/22\n",
      "68801/68801 [==============================] - 5s 76us/step - loss: 0.6113 - val_loss: 0.6196\n",
      "Epoch 18/22\n",
      "68801/68801 [==============================] - 5s 67us/step - loss: 0.6109 - val_loss: 0.6191\n",
      "Epoch 19/22\n",
      "68801/68801 [==============================] - 5s 72us/step - loss: 0.6111 - val_loss: 0.6188\n",
      "Epoch 20/22\n",
      "68801/68801 [==============================] - 5s 70us/step - loss: 0.6109 - val_loss: 0.6189\n",
      "Epoch 21/22\n",
      "68801/68801 [==============================] - 5s 69us/step - loss: 0.6107 - val_loss: 0.6191\n",
      "Epoch 22/22\n",
      "68801/68801 [==============================] - 5s 76us/step - loss: 0.6097 - val_loss: 0.6186\n",
      "bps:  0.275421581307\n",
      "r2:  0.104861322226\n",
      " \n",
      "\u001b[1msaving checkpoint...\n",
      "\u001b[0m\n"
     ]
    }
   ],
   "source": [
    "celltype = 'simple'\n",
    "model_type = 'fc'\n",
    "plot = False \n",
    "gen_psth = False\n",
    "save_model = True\n",
    "save_perf = True\n",
    "restore_frm_chkpt = False\n",
    "v1 = V1(celltype, 1)\n",
    "use_istac = False\n",
    "\n",
    "Ls = [0,1,2,3]\n",
    "Hs = [16,32,96,128]\n",
    "filters = [2,3,4,5,6,7]\n",
    "\n",
    "pf_bps = np.zeros([len(Ls), len(Hs), cell_nums[celltype]])\n",
    "pf_r2 = np.zeros([len(Ls), len(Hs), cell_nums[celltype]])\n",
    "best_r2 = -1.\n",
    "best_bps = -1.\n",
    "\n",
    "if restore_frm_chkpt:\n",
    "    print (color.BOLD + 'loading checkpoint...' + color.END)\n",
    "    pf_bps = restore_performance_checkpt('./SavedResults/es_tr_' + celltype \\\n",
    "                                                  + '_' + model_type + '_bps.csv')\n",
    "    pf_bps = pf_bps.reshape(len(Ls), len(Hs), -1)\n",
    "    best_bps = np.max(pf_bps)\n",
    "    \n",
    "    pf_r2 = restore_performance_checkpt('./SavedResults/es_tr_' + celltype \\\n",
    "                                                 + '_' + model_type + '_r2.csv')\n",
    "    pf_r2 = pf_r2.reshape(len(Ls), len(Hs), -1)\n",
    "    best_r2 = np.max(pf_r2)\n",
    "    \n",
    "    \n",
    "# define early stopping callback\n",
    "earlystop = EarlyStopping(monitor='val_loss', patience=3, min_delta=.1, verbose=1, mode='auto')\n",
    "callbacks_list = [earlystop]\n",
    "\n",
    "# model type\n",
    "gen_model = {'fc':gen_fc_model, 'rnn':gen_rnn_model, 'cnn':gen_cnn_model}\n",
    "\n",
    "# data format\n",
    "if model_type in ['rnn', 'cnn']: flatten = False;\n",
    "else: flatten = True;\n",
    "\n",
    "k = 0\n",
    "for cell_num in range(cell_nums[celltype]):\n",
    "    v1 = V1(celltype, cell_num+1, flatten=flatten)\n",
    "    \n",
    "    \n",
    "    \n",
    "    for nf in \n",
    "    if use_istac:\n",
    "        pass\n",
    "    else:\n",
    "        # load model from which filters will be pulled\n",
    "        filt_model = get_nn_model(celltype, model_type, metric='r2', filts=True, cell=cell_num+1)\n",
    "        # extract filters\n",
    "        E,S = get_E_and_S(filt_model, nf)\n",
    "    \n",
    "    if E is not None:\n",
    "        i = 0\n",
    "        for L in Ls:\n",
    "            j = 0\n",
    "            for H in Hs:\n",
    "                if pf_bps[i,j,k] == 0.:\n",
    "                    print (\"============================================================\")\n",
    "                    print (color.BOLD + \"Training Model on Cell \" + str(cell_num+1) + \" of \" + str(cell_nums[celltype])  \\\n",
    "                           + \" with depth of \" + str(L) + \" and width of \" + str(H) + color.END) \n",
    "                    \n",
    "                    # load model\n",
    "                    model = gen_ES_model(E, S, H, dim=v1.X_train.shape[-1], L=L, verbose=True, trainable=True) \n",
    "                    \n",
    "                    # fit model\n",
    "                    hist = model.fit(v1.X_train, v1.y_train, batch_size=50, epochs=10+L*4,\n",
    "                                     verbose=1, callbacks=None, validation_data=(v1.X_val, v1.y_val)) \n",
    "                    time.sleep(0.1)\n",
    "\n",
    "                    # evaluate performance metrics\n",
    "                    bps,_ = get_bps(model, v1)\n",
    "                    _, rsq = r2(model.predict(v1.X_test).reshape(-1,), v1.y_test.reshape(-1,))\n",
    "\n",
    "                    if bps > best_bps and save_model:\n",
    "                        best_bps = bps\n",
    "                        print (color.PURPLE + 'saving new bps model...' + color.END)\n",
    "                        model.save('SavedModels/es_tr_' + celltype + '_best_' + model_type + '_bps.h5')\n",
    "\n",
    "                    if rsq > best_r2 and save_model:\n",
    "                        best_r2 = rsq\n",
    "                        print (color.PURPLE + 'saving new r2 model...' + color.END)\n",
    "                        model.save('SavedModels/es_tr_' + celltype + '_best_' + model_type + '_r2.h5')\n",
    "\n",
    "                    pf_bps[i,j,k] = bps\n",
    "                    pf_r2[i,j,k] = rsq\n",
    "\n",
    "                    if gen_psth:\n",
    "                        rpt_preds = model.predict(v1.X_rpt)\n",
    "                        model_psth = v1.convert_nn_psth(rpt_preds)\n",
    "\n",
    "                        if plot:\n",
    "                            plt.plot(model_psth, label='nn')\n",
    "                            plt.plot(v1.psth, label='repeat')\n",
    "                            plt.legend()\n",
    "                            plt.xlabel('Time (ms)')\n",
    "                            plt.ylabel('Rate (sp/s)')\n",
    "                            plt.show()\n",
    "\n",
    "\n",
    "                    print (\"bps: \", bps)\n",
    "                    print (\"r2: \", rsq)\n",
    "                    print (\" \")\n",
    "\n",
    "\n",
    "                j += 1\n",
    "\n",
    "                if save_perf: \n",
    "                    print (color.BOLD + 'saving checkpoint...\\n' + color.END)\n",
    "                    np.savetxt('./SavedResults/es_tr_' + celltype + '_' + model_type \\\n",
    "                               + '_bps.csv', pf_bps.reshape(-1,1), delimiter=',')\n",
    "                    np.savetxt('./SavedResults/es_tr_' + celltype + '_' + model_type \\\n",
    "                               + '_r2.csv', pf_r2.reshape(-1,1), delimiter=',')\n",
    "            i += 1\n",
    "        k += 1\n",
    "\n"
   ]
  },
  {
   "cell_type": "code",
   "execution_count": 12,
   "metadata": {},
   "outputs": [],
   "source": [
    "def get_E_and_S_filt(filters):\n",
    "    \"\"\"\n",
    "    Extract excitatory and suppressive filters from a given model. \n",
    "    \n",
    "    Args: \n",
    "        filts: filters\n",
    "        \n",
    "    Returns: \n",
    "        E: stacked excitatory filters (numpy ndarray)\n",
    "        S: stacked suppressive filters (numpy ndarray)\n",
    "    \"\"\"\n",
    "    # heuristic to ID E and S: E if max value > min, S if min > max\n",
    "    Es = []\n",
    "    Ss = []\n",
    "    for i in range(filters.shape[1]):\n",
    "        filt = filters[:,i]\n",
    "        if np.abs(np.max(filt)) >= np.abs(np.min(filt)): Es.append(i);\n",
    "        else: Ss.append(i);\n",
    "    \n",
    "    # if model lacks excitatory and/or suppressive filters\n",
    "    if len(Es) > 0: E = np.hstack([filters[:,i].reshape(-1,1) for i in Es]);\n",
    "    else: E = np.random.randn(filters.shape[0]).reshape(-1,1)\n",
    "    if len(Ss) > 0: S = np.hstack([filters[:,i].reshape(-1,1) for i in Ss]);\n",
    "    else: S = np.random.randn(filters.shape[0]).reshape(-1,1)\n",
    "    \n",
    "    return E,S"
   ]
  },
  {
   "cell_type": "code",
   "execution_count": 16,
   "metadata": {
    "scrolled": true
   },
   "outputs": [
    {
     "name": "stdout",
     "output_type": "stream",
     "text": [
      "building data...\n",
      "fetching repeat data...\n",
      "done.\n",
      "building data...\n",
      "fetching repeat data...\n",
      "done.\n",
      "============================================================\n",
      "\u001b[1mTraining 2 Filter Model on Cell 1 of 9 with depth of 3 and width of 32\u001b[0m\n",
      "Train on 229364 samples, validate on 32766 samples\n",
      "Epoch 1/20\n",
      "229364/229364 [==============================] - 13s 56us/step - loss: 1.1664 - val_loss: 1.1681\n",
      "Epoch 2/20\n",
      "229364/229364 [==============================] - 10s 44us/step - loss: 1.1661 - val_loss: 1.1678\n",
      "Epoch 3/20\n",
      "229364/229364 [==============================] - 8s 37us/step - loss: 1.1655 - val_loss: 1.1671\n",
      "Epoch 4/20\n",
      "229364/229364 [==============================] - 8s 37us/step - loss: 1.1631 - val_loss: 1.1632\n",
      "Epoch 5/20\n",
      "229364/229364 [==============================] - 8s 35us/step - loss: 1.1567 - val_loss: 1.1561\n",
      "Epoch 6/20\n",
      "229364/229364 [==============================] - 8s 35us/step - loss: 1.1491 - val_loss: 1.1509\n",
      "Epoch 7/20\n",
      "229364/229364 [==============================] - 8s 36us/step - loss: 1.1439 - val_loss: 1.1470\n",
      "Epoch 8/20\n",
      "229364/229364 [==============================] - 8s 35us/step - loss: 1.1399 - val_loss: 1.1427\n",
      "Epoch 9/20\n",
      "229364/229364 [==============================] - 8s 35us/step - loss: 1.1363 - val_loss: 1.1394\n",
      "Epoch 10/20\n",
      "229364/229364 [==============================] - 8s 35us/step - loss: 1.1328 - val_loss: 1.1359 1 - ETA: 3s - loss: 1. - ETA: 2s - - ETA:\n",
      "Epoch 11/20\n",
      "229364/229364 [==============================] - 8s 35us/step - loss: 1.1300 - val_loss: 1.1327\n",
      "Epoch 12/20\n",
      "229364/229364 [==============================] - 9s 38us/step - loss: 1.1276 - val_loss: 1.1308\n",
      "Epoch 13/20\n",
      "229364/229364 [==============================] - 8s 35us/step - loss: 1.1260 - val_loss: 1.1287126\n",
      "Epoch 14/20\n",
      "229364/229364 [==============================] - 8s 35us/step - loss: 1.1249 - val_loss: 1.1278\n",
      "Epoch 15/20\n",
      "229364/229364 [==============================] - 8s 36us/step - loss: 1.1243 - val_loss: 1.1270- ETA: 0s - loss: 1 - ETA: 0s -\n",
      "Epoch 16/20\n",
      "229364/229364 [==============================] - 8s 36us/step - loss: 1.1238 - val_loss: 1.1277A: 1s - loss: 1.122 - ETA: 1s - loss: 1.1 - ETA: 1 - ETA: 0s - loss: 1.\n",
      "Epoch 17/20\n",
      "229364/229364 [==============================] - 8s 36us/step - loss: 1.1234 - val_loss: 1.1265\n",
      "Epoch 18/20\n",
      "229364/229364 [==============================] - 8s 36us/step - loss: 1.1233 - val_loss: 1.1264\n",
      "Epoch 19/20\n",
      "229364/229364 [==============================] - 9s 38us/step - loss: 1.1231 - val_loss: 1.1261A: 1s -\n",
      "Epoch 20/20\n",
      "229364/229364 [==============================] - 10s 42us/step - loss: 1.1229 - val_loss: 1.1274 2s - - ETA: 1s - lo - ETA: 0s\n",
      "\u001b[95msaving new bps model...\u001b[0m\n",
      "\u001b[95msaving new r2 model...\u001b[0m\n",
      "bps:  0.0773238856462\n",
      "r2:  0.0811312382837\n",
      " \n",
      "[[ 0.08113124  0.          0.          0.          0.          0.          0.\n",
      "   0.          0.        ]]\n"
     ]
    }
   ],
   "source": [
    "celltype = 'complex'\n",
    "model_type = 'fc'\n",
    "plot = False \n",
    "gen_psth = False\n",
    "save_model = True\n",
    "save_perf = False\n",
    "restore_frm_chkpt = False\n",
    "v1 = V1(celltype, 1)\n",
    "use_istac = True\n",
    "\n",
    "Ls = [3]\n",
    "Hs = [32]\n",
    "filters = [2]\n",
    "n_filts = len(filters)\n",
    "\n",
    "pf_bps = np.zeros([len(filters), cell_nums[celltype]])\n",
    "pf_r2 = np.zeros([len(filters), cell_nums[celltype]])\n",
    "best_r2 = -1.\n",
    "best_bps = -1.\n",
    "\n",
    "if restore_frm_chkpt:\n",
    "    print (color.BOLD + 'loading checkpoint...' + color.END)\n",
    "    pf_bps = restore_performance_checkpt('./SavedResults/es_tr_' + celltype \\\n",
    "                                                  + '_' + model_type + '_bps.csv')\n",
    "    pf_bps = pf_bps.reshape(n_filts, -1)\n",
    "    best_bps = np.max(pf_bps)\n",
    "    \n",
    "    pf_r2 = restore_performance_checkpt('./SavedResults/es_tr_' + celltype \\\n",
    "                                                 + '_' + model_type + '_r2.csv')\n",
    "    pf_r2 = pf_r2.reshape(n_filts, -1)\n",
    "    best_r2 = np.max(pf_r2)\n",
    "    \n",
    "\n",
    "# data format\n",
    "flatten = True\n",
    "\n",
    "j = 0\n",
    "i = 0\n",
    "for cell_num in [0]:#range(cell_nums[celltype]):\n",
    "    v1 = V1(celltype, cell_num+1, flatten=flatten)\n",
    "    i = 0\n",
    "    for nf in filters:\n",
    "        #if pf_bps[i,j] == 0.0:\n",
    "        \n",
    "        # get iSTAC filters\n",
    "        filts = np.genfromtxt('SavedFilters/'+ celltype+'_istac_filters_cell'+str(cell_num+1)+'.csv', delimiter=',')\n",
    "        filts = filts[:,:nf]\n",
    "        E,S = get_E_and_S_filt(filts)\n",
    "\n",
    "        best_filt_bps = -1\n",
    "        best_filt_r2 = -1\n",
    "\n",
    "\n",
    "        for L in Ls:\n",
    "            for H in Hs:\n",
    "                print (\"============================================================\")\n",
    "                print (color.BOLD + \"Training \" + str(nf) + \" Filter Model on Cell \" + str(cell_num+1) + \" of \" + str(cell_nums[celltype])  \\\n",
    "                       + \" with depth of \" + str(L) + \" and width of \" + str(H) + color.END) \n",
    "\n",
    "                # load model\n",
    "                model = gen_ES_model(E, S, H, dim=v1.X_train.shape[-1], L=L, lr=0.00005,\n",
    "                                     verbose=True, trainable=True) \n",
    "\n",
    "                # fit model\n",
    "                hist = model.fit(v1.X_train, v1.y_train, batch_size=50, epochs=20,\n",
    "                                 verbose=1, callbacks=None, validation_data=(v1.X_val, v1.y_val)) \n",
    "                time.sleep(0.1)\n",
    "\n",
    "                # evaluate performance metrics\n",
    "                bps,_ = get_bps(model, v1)\n",
    "                _, rsq = r2(model.predict(v1.X_test).reshape(-1,), v1.y_test.reshape(-1,))\n",
    "\n",
    "                if bps > best_filt_bps: best_filt_bps = bps; \n",
    "                if rsq > best_filt_r2: best_filt_r2 = rsq; \n",
    "\n",
    "                if bps > best_bps and save_model:\n",
    "                    best_bps = bps\n",
    "                    print (color.PURPLE + 'saving new bps model...' + color.END)\n",
    "                    model.save('SavedModels/2f_es_tr_' + celltype + '_best_' + model_type + '_bps.h5')\n",
    "\n",
    "                if rsq > best_r2 and save_model:\n",
    "                    best_r2 = rsq\n",
    "                    print (color.PURPLE + 'saving new r2 model...' + color.END)\n",
    "                    model.save('SavedModels/2f_es_tr_' + celltype + '_best_' + model_type + '_r2.h5')\n",
    "\n",
    "                print (\"bps: \", bps)\n",
    "                print (\"r2: \", rsq)\n",
    "                print (\" \")\n",
    "\n",
    "\n",
    "        pf_bps[i,j] = best_filt_bps\n",
    "        pf_r2[i,j] = best_filt_r2\n",
    "        if save_perf: \n",
    "            print (color.BOLD + 'saving checkpoint...\\n' + color.END)\n",
    "            np.savetxt('./SavedResults/2f_es_tr_' + celltype + '_' + model_type \\\n",
    "                       + '_bps.csv', pf_bps, delimiter=',')\n",
    "            np.savetxt('./SavedResults/2f_es_tr_' + celltype + '_' + model_type \\\n",
    "                       + '_r2.csv', pf_r2, delimiter=',')\n",
    "        i += 1\n",
    "    print (pf_r2)\n",
    "    j += 1\n",
    "\n",
    "\n"
   ]
  },
  {
   "cell_type": "code",
   "execution_count": 17,
   "metadata": {},
   "outputs": [
    {
     "name": "stdout",
     "output_type": "stream",
     "text": [
      "__________________________________________________________________________________________________\n",
      "Layer (type)                    Output Shape         Param #     Connected to                     \n",
      "==================================================================================================\n",
      "input_stim (InputLayer)         (None, 256)          0                                            \n",
      "__________________________________________________________________________________________________\n",
      "exc_filter (Dense)              (None, 1)            257         input_stim[0][0]                 \n",
      "__________________________________________________________________________________________________\n",
      "sup_filter (Dense)              (None, 1)            257         input_stim[0][0]                 \n",
      "__________________________________________________________________________________________________\n",
      "excitatory_wts (Dense)          (None, 1)            2           exc_filter[0][0]                 \n",
      "__________________________________________________________________________________________________\n",
      "suppressive_wts (Dense)         (None, 1)            2           sup_filter[0][0]                 \n",
      "__________________________________________________________________________________________________\n",
      "lambda_7 (Lambda)               (None, 1)            0           excitatory_wts[0][0]             \n",
      "__________________________________________________________________________________________________\n",
      "lambda_8 (Lambda)               (None, 1)            0           suppressive_wts[0][0]            \n",
      "__________________________________________________________________________________________________\n",
      "concatenate_4 (Concatenate)     (None, 2)            0           lambda_7[0][0]                   \n",
      "                                                                 lambda_8[0][0]                   \n",
      "__________________________________________________________________________________________________\n",
      "dense_33 (Dense)                (None, 32)           96          concatenate_4[0][0]              \n",
      "__________________________________________________________________________________________________\n",
      "dense_34 (Dense)                (None, 32)           1056        dense_33[0][0]                   \n",
      "__________________________________________________________________________________________________\n",
      "dense_35 (Dense)                (None, 32)           1056        dense_34[0][0]                   \n",
      "__________________________________________________________________________________________________\n",
      "dense_36 (Dense)                (None, 1)            33          dense_35[0][0]                   \n",
      "==================================================================================================\n",
      "Total params: 2,759\n",
      "Trainable params: 2,759\n",
      "Non-trainable params: 0\n",
      "__________________________________________________________________________________________________\n"
     ]
    }
   ],
   "source": [
    "model.summary()"
   ]
  },
  {
   "cell_type": "code",
   "execution_count": 13,
   "metadata": {},
   "outputs": [],
   "source": [
    "weights = []\n",
    "for layer in model.layers:\n",
    "    weights.append(layer.get_weights())"
   ]
  },
  {
   "cell_type": "code",
   "execution_count": 15,
   "metadata": {},
   "outputs": [
    {
     "data": {
      "image/png": "[encoded data removed]",
      "text/plain": [
       "<matplotlib.figure.Figure at 0x12ede1550>"
      ]
     },
     "metadata": {},
     "output_type": "display_data"
    },
    {
     "data": {
      "image/png": "[encoded data removed]",
      "text/plain": [
       "<matplotlib.figure.Figure at 0x12fbaef28>"
      ]
     },
     "metadata": {},
     "output_type": "display_data"
    }
   ],
   "source": [
    "for i in range(2):\n",
    "    w = weights[1][0][:,i].reshape(16,16)\n",
    "    plt.imshow(w/np.linalg.norm(w), interpolation='nearest', cmap='Purples')\n",
    "    plt.show()"
   ]
  },
  {
   "cell_type": "code",
   "execution_count": 16,
   "metadata": {},
   "outputs": [
    {
     "data": {
      "image/png": "[encoded data removed]",
      "text/plain": [
       "<matplotlib.figure.Figure at 0x12df63b70>"
      ]
     },
     "metadata": {},
     "output_type": "display_data"
    },
    {
     "data": {
      "image/png": "[encoded data removed]",
      "text/plain": [
       "<matplotlib.figure.Figure at 0x12dfeb0f0>"
      ]
     },
     "metadata": {},
     "output_type": "display_data"
    },
    {
     "data": {
      "image/png": "[encoded data removed]",
      "text/plain": [
       "<matplotlib.figure.Figure at 0x135d35ac8>"
      ]
     },
     "metadata": {},
     "output_type": "display_data"
    }
   ],
   "source": [
    "for i in range(3):\n",
    "    w = weights[2][0][:,i].reshape(16,16)\n",
    "    plt.imshow(w/np.linalg.norm(w), interpolation='nearest', cmap='Purples')\n",
    "    plt.show()"
   ]
  },
  {
   "cell_type": "code",
   "execution_count": 10,
   "metadata": {},
   "outputs": [
    {
     "data": {
      "image/png": "[encoded data removed]",
      "text/plain": [
       "<matplotlib.figure.Figure at 0x1164b5780>"
      ]
     },
     "metadata": {},
     "output_type": "display_data"
    }
   ],
   "source": [
    "plt.plot(np.mean(pf_bps, axis=1))\n",
    "plt.show()"
   ]
  },
  {
   "cell_type": "code",
   "execution_count": 21,
   "metadata": {},
   "outputs": [
    {
     "data": {
      "text/plain": [
       "(array([0]), array([3]))"
      ]
     },
     "execution_count": 21,
     "metadata": {},
     "output_type": "execute_result"
    }
   ],
   "source": [
    "np.where(pf_r2 == np.max(pf_r2))"
   ]
  },
  {
   "cell_type": "code",
   "execution_count": null,
   "metadata": {},
   "outputs": [],
   "source": []
  }
 ],
 "metadata": {
  "kernelspec": {
   "display_name": "Python 3",
   "language": "python",
   "name": "python3"
  },
  "language_info": {
   "codemirror_mode": {
    "name": "ipython",
    "version": 3
   },
   "file_extension": ".py",
   "mimetype": "text/x-python",
   "name": "python",
   "nbconvert_exporter": "python",
   "pygments_lexer": "ipython3",
   "version": "3.6.2"
  }
 },
 "nbformat": 4,
 "nbformat_minor": 1
}
