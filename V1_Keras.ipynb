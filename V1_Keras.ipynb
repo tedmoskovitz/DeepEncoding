{
 "cells": [
  {
   "cell_type": "code",
   "execution_count": 1,
   "metadata": {},
   "outputs": [
    {
     "name": "stderr",
     "output_type": "stream",
     "text": [
      "/Library/Frameworks/Python.framework/Versions/3.6/lib/python3.6/importlib/_bootstrap.py:205: RuntimeWarning: compiletime version 3.5 of module 'tensorflow.python.framework.fast_tensor_util' does not match runtime version 3.6\n",
      "  return f(*args, **kwds)\n",
      "Using TensorFlow backend.\n"
     ]
    }
   ],
   "source": [
    "import numpy as np\n",
    "import matplotlib.pyplot as plt\n",
    "import scipy.io as spio \n",
    "import h5py\n",
    "from v1_data import V1\n",
    "import os\n",
    "import os.path\n",
    "\n",
    "import tensorflow as tf\n",
    "from keras.models import Sequential, load_model\n",
    "from keras.layers import Dense, Dropout, Activation, BatchNormalization, GRU, CuDNNLSTM, Flatten, Conv1D, GlobalAveragePooling1D, MaxPooling1D\n",
    "from keras.optimizers import RMSprop, SGD, Adam\n",
    "from keras.constraints import maxnorm\n",
    "from keras.callbacks import EarlyStopping\n",
    "import time \n",
    "\n",
    "from tf_utils import neglogli, poiss_full, get_bps, r2, restore_performance_checkpt, color\n",
    "from nn_models import gen_fc_model, gen_rnn_model, gen_cnn_model\n",
    "\n",
    "# set plots inside notebook\n",
    "%matplotlib inline\n",
    "plt.rcParams['figure.figsize'] = (12.0, 9.0) # set default size of plots\n",
    "plt.rcParams['image.interpolation'] = 'nearest'\n",
    "plt.rcParams['image.cmap'] = 'gray'\n",
    "\n",
    "N_COMPLEX = len(os.listdir('./RustV1/complex/data/'))\n",
    "N_SIMPLE = len(os.listdir('./RustV1/simple/data/'))\n",
    "cell_nums = {'simple':N_SIMPLE, 'complex':N_COMPLEX}"
   ]
  },
  {
   "cell_type": "code",
   "execution_count": 3,
   "metadata": {},
   "outputs": [
    {
     "data": {
      "text/plain": [
       "3"
      ]
     },
     "execution_count": 3,
     "metadata": {},
     "output_type": "execute_result"
    }
   ],
   "source": [
    "N_SIMPLE"
   ]
  },
  {
   "cell_type": "code",
   "execution_count": 4,
   "metadata": {},
   "outputs": [],
   "source": [
    "ln_fs = [0,1,2,3,4,5]\n",
    "\n",
    "h_layers_fc = [0,1,2,3]\n",
    "h_sizes_fc = [1,2,3,4,5,16,32,64,128]\n",
    "\n",
    "h_layers_rnn = [0,1,2]\n",
    "h_sizes_rnn = [2,5,10,25,50]\n",
    "\n",
    "h_layers_cnn = [0,1,2,3]\n",
    "h_sizes_cnn = [2,4,8,16,32,64]\n",
    "\n",
    "hparams = {'fc':{'h_layers':h_layers_fc, 'h_sizes':h_sizes_fc, 'ndepths':len(h_layers_fc), 'nwidths':len(h_sizes_fc)},\n",
    "          'rnn':{'h_layers':h_layers_rnn, 'h_sizes':h_sizes_rnn, 'ndepths':len(h_layers_rnn), 'nwidths':len(h_sizes_rnn)},\n",
    "          'cnn':{'h_layers':h_layers_cnn, 'h_sizes':h_sizes_cnn, 'ndepths':len(h_layers_cnn), 'nwidths':len(h_sizes_cnn)}}"
   ]
  },
  {
   "cell_type": "code",
   "execution_count": 8,
   "metadata": {},
   "outputs": [
    {
     "name": "stdout",
     "output_type": "stream",
     "text": [
      "building data...\n",
      "fetching repeat data...\n",
      "done.\n",
      "building data...\n",
      "fetching repeat data...\n",
      "done.\n",
      "============================================================\n",
      "\u001b[1mTraining Model on Cell 3 of 3 with depth of 4 and width of 64\u001b[0m\n",
      "_________________________________________________________________\n",
      "Layer (type)                 Output Shape              Param #   \n",
      "=================================================================\n",
      "dense_5 (Dense)              (None, 64)                16448     \n",
      "_________________________________________________________________\n",
      "activation_4 (Activation)    (None, 64)                0         \n",
      "_________________________________________________________________\n",
      "dropout_4 (Dropout)          (None, 64)                0         \n",
      "_________________________________________________________________\n",
      "dense_6 (Dense)              (None, 64)                4160      \n",
      "_________________________________________________________________\n",
      "activation_5 (Activation)    (None, 64)                0         \n",
      "_________________________________________________________________\n",
      "dropout_5 (Dropout)          (None, 64)                0         \n",
      "_________________________________________________________________\n",
      "dense_7 (Dense)              (None, 64)                4160      \n",
      "_________________________________________________________________\n",
      "activation_6 (Activation)    (None, 64)                0         \n",
      "_________________________________________________________________\n",
      "dropout_6 (Dropout)          (None, 64)                0         \n",
      "_________________________________________________________________\n",
      "dense_8 (Dense)              (None, 1)                 65        \n",
      "=================================================================\n",
      "Total params: 24,833\n",
      "Trainable params: 24,833\n",
      "Non-trainable params: 0\n",
      "_________________________________________________________________\n",
      "Train on 68801 samples, validate on 9828 samples\n",
      "Epoch 1/18\n",
      "68801/68801 [==============================] - 6s 90us/step - loss: 0.6834 - val_loss: 0.6549\n",
      "Epoch 2/18\n",
      "68801/68801 [==============================] - 5s 79us/step - loss: 0.6497 - val_loss: 0.6308\n",
      "Epoch 3/18\n",
      "68801/68801 [==============================] - 6s 86us/step - loss: 0.6282 - val_loss: 0.6214\n",
      "Epoch 4/18\n",
      "68801/68801 [==============================] - 6s 83us/step - loss: 0.6188 - val_loss: 0.6188\n",
      "Epoch 5/18\n",
      "68801/68801 [==============================] - 6s 86us/step - loss: 0.6137 - val_loss: 0.6178\n",
      "Epoch 6/18\n",
      "68801/68801 [==============================] - 6s 91us/step - loss: 0.6092 - val_loss: 0.6174\n",
      "Epoch 7/18\n",
      "68801/68801 [==============================] - 6s 83us/step - loss: 0.6075 - val_loss: 0.6166\n",
      "Epoch 8/18\n",
      "68801/68801 [==============================] - 6s 84us/step - loss: 0.6050 - val_loss: 0.6170\n",
      "Epoch 9/18\n",
      "68801/68801 [==============================] - 6s 89us/step - loss: 0.6046 - val_loss: 0.6165\n",
      "Epoch 10/18\n",
      "68801/68801 [==============================] - 6s 86us/step - loss: 0.6036 - val_loss: 0.6160\n",
      "Epoch 11/18\n",
      "68801/68801 [==============================] - 6s 90us/step - loss: 0.6031 - val_loss: 0.6163\n",
      "Epoch 12/18\n",
      "68801/68801 [==============================] - 6s 88us/step - loss: 0.6012 - val_loss: 0.6158\n",
      "Epoch 13/18\n",
      "68801/68801 [==============================] - 6s 83us/step - loss: 0.6006 - val_loss: 0.6153\n",
      "Epoch 14/18\n",
      "68801/68801 [==============================] - 6s 85us/step - loss: 0.5993 - val_loss: 0.6150\n",
      "Epoch 15/18\n",
      "68801/68801 [==============================] - 6s 93us/step - loss: 0.5990 - val_loss: 0.6151\n",
      "Epoch 16/18\n",
      "68801/68801 [==============================] - 6s 88us/step - loss: 0.5967 - val_loss: 0.6149\n",
      "Epoch 17/18\n",
      "68801/68801 [==============================] - 6s 81us/step - loss: 0.5957 - val_loss: 0.6151\n",
      "Epoch 18/18\n",
      "68801/68801 [==============================] - 5s 80us/step - loss: 0.5946 - val_loss: 0.6144\n",
      "\u001b[95msaving new bps model...\u001b[0m\n",
      "\u001b[95msaving new r2 model...\u001b[0m\n",
      "bps:  0.29968484852764604\n",
      "r2:  0.10885855302292667\n",
      " \n"
     ]
    }
   ],
   "source": [
    "celltype = 'simple'\n",
    "model_type = 'fc'\n",
    "plot = True \n",
    "gen_psth = False\n",
    "restore_frm_chkpt = False\n",
    "v1 = V1(celltype, 1)\n",
    "\n",
    "ndepths = hparams[model_type]['ndepths']\n",
    "nwidths = hparams[model_type]['nwidths']\n",
    "nfilts = len(ln_fs)\n",
    "\n",
    "performance_bps = np.zeros([ndepths, nwidths, cell_nums[celltype]])\n",
    "performance_r2 = np.zeros([ndepths, nwidths, cell_nums[celltype]])\n",
    "filter_bps = np.zeros([nfilts])\n",
    "filter_r2 = np.zeros([nfilts])\n",
    "best_r2 = -1.\n",
    "best_bps = -1.\n",
    "\n",
    "if restore_frm_chkpt:\n",
    "    print (color.BOLD + 'loading checkpoint...' + color.END)\n",
    "    performance_bps = restore_performance_checkpt('./SavedResults/' + celltype \\\n",
    "                                                  + '_' + model_type + '_bps.csv')\n",
    "    performance_bps = performance_bps.reshape(ndepths, nwidths, cell_nums[celltype])\n",
    "    best_bps = np.max(performance_bps)\n",
    "    \n",
    "    performance_r2 = restore_performance_checkpt('./SavedResults/' + celltype \\\n",
    "                                                 + '_' + model_type + '_r2.csv')\n",
    "    performance_r2 = performance_r2.reshape(ndepths, nwidths, cell_nums[celltype])\n",
    "    best_r2 = np.max(performance_r2)\n",
    "    \n",
    "\n",
    "    \n",
    "    \n",
    "# define early stopping callback\n",
    "earlystop = EarlyStopping(monitor='val_loss', patience=3, min_delta=.1, verbose=1, mode='auto')\n",
    "callbacks_list = [earlystop]\n",
    "\n",
    "# model type\n",
    "gen_model = {'fc':gen_fc_model, 'rnn':gen_rnn_model, 'cnn':gen_cnn_model}\n",
    "\n",
    "# data format\n",
    "if model_type in ['rnn', 'cnn']: flatten = False;\n",
    "else: flatten = True;\n",
    "\n",
    "\n",
    "k = 0\n",
    "for cell_num in [2]:#range(cell_nums[celltype]):\n",
    "    v1 = V1(celltype, cell_num+1, flatten=flatten);\n",
    "    i = 0\n",
    "    for L in [2]:#hparams[model_type]['h_layers']:\n",
    "        j = 0\n",
    "        for H in [64]:#hparams[model_type]['h_sizes']:\n",
    "            if performance_bps[i,j,k] == 0.:\n",
    "                print (\"============================================================\")\n",
    "                print (color.BOLD + \"Training Model on Cell \" + str(cell_num+1) + \" of \" + str(cell_nums[celltype])  \\\n",
    "                       + \" with depth of \" + str(L+2) + \" and width of \" + str(H) + color.END) \n",
    "                model = gen_model[model_type](H, L=L, dim=v1.X_train.shape[-1])\n",
    "\n",
    "                hist = model.fit(v1.X_train, v1.y_train, batch_size=50, epochs=10+L*4,\n",
    "                                 verbose=1, callbacks=None, validation_data=(v1.X_val, v1.y_val)) \n",
    "                time.sleep(0.1)\n",
    "\n",
    "                bps,_ = get_bps(model, v1)\n",
    "                _, rsq = r2(model.predict(v1.X_test).reshape(-1,), v1.y_test.reshape(-1,))\n",
    "\n",
    "                if bps > best_bps:\n",
    "                    best_bps = bps\n",
    "                    print (color.PURPLE + 'saving new bps model...' + color.END)\n",
    "                    model.save('SavedModels/' + celltype + '_best_' + model_type + '_bps.h5')\n",
    "\n",
    "                if rsq > best_r2:\n",
    "                    best_r2 = rsq\n",
    "                    print (color.PURPLE + 'saving new r2 model...' + color.END)\n",
    "                    model.save('SavedModels/' + celltype + '_best_' + model_type + '_r2.h5')\n",
    "\n",
    "                performance_bps[i,j,k] = bps\n",
    "                performance_r2[i,j,k] = rsq\n",
    "\n",
    "                if gen_psth:\n",
    "                    rpt_preds = model.predict(v1.X_rpt)\n",
    "                    model_psth = v1.convert_nn_psth(rpt_preds)\n",
    "\n",
    "                    if plot:\n",
    "                        plt.plot(model_psth, label='nn')\n",
    "                        plt.plot(v1.psth, label='repeat')\n",
    "                        plt.legend()\n",
    "                        plt.xlabel('Time (ms)')\n",
    "                        plt.ylabel('Rate (sp/s)')\n",
    "                        plt.show()\n",
    "\n",
    "\n",
    "                print (\"bps: \", bps)\n",
    "                print (\"r2: \", rsq)\n",
    "                print (\" \")\n",
    "\n",
    "\n",
    "            j += 1\n",
    "            \n",
    "            #print (color.BOLD + 'saving checkpoint...\\n' + color.END)\n",
    "            #np.savetxt('./SavedResults/' + celltype + '_' + model_type \\\n",
    "            #           + '_bps.csv', performance_bps.reshape(-1,1), delimiter=',')\n",
    "            #np.savetxt('./SavedResults/' + celltype + '_' + model_type \\\n",
    "            #           + '_r2.csv', performance_r2.reshape(-1,1), delimiter=',')\n",
    "        i += 1\n",
    "    k += 1\n"
   ]
  },
  {
   "cell_type": "code",
   "execution_count": null,
   "metadata": {},
   "outputs": [],
   "source": [
    "ln_fs = [1,2,3,4,5]\n",
    "\n",
    "s_fc_config = {'L':2, 'H':64}\n",
    "s_rnn_config = {'L':2, 'H':50}\n",
    "s_cnn_config = {'L':2, 'H':64}\n",
    "\n",
    "c_fc_config = {'L':3, 'H':128}\n",
    "c_rnn_config = {'L':2, 'H':25}\n",
    "c_cnn_config = {'L':1, 'H':32}\n",
    "\n",
    "\n",
    "params = {'fc':{'simple':s_fc_config, 'complex':c_fc_config},\n",
    "          'rnn':{'simple':s_rnn_config, 'complex':c_rnn_config},\n",
    "          'cnn':{'simple':s_cnn_config, 'complex':c_cnn_config}}"
   ]
  },
  {
   "cell_type": "code",
   "execution_count": null,
   "metadata": {},
   "outputs": [],
   "source": [
    "celltype = 'simple'\n",
    "model_type = 'fc'\n",
    "plot = False \n",
    "gen_psth = False\n",
    "restore_frm_chkpt = False\n",
    "v1 = V1(celltype, 1)\n",
    "\n",
    "ndepths = hparams[model_type]['ndepths']\n",
    "nwidths = hparams[model_type]['nwidths']\n",
    "nfilts = len(ln_fs)\n",
    "\n",
    "pf_bps = np.zeros([nfilts, cell_nums[celltype]])\n",
    "pf_r2 = np.zeros([nfilts, cell_nums[celltype]])\n",
    "best_r2 = -1.\n",
    "best_bps = -1.\n",
    "\n",
    "if restore_frm_chkpt:\n",
    "    print (color.BOLD + 'loading checkpoint...' + color.END)\n",
    "    pf_bps = restore_performance_checkpt('./SavedResults/filts_' + celltype \\\n",
    "                                                  + '_' + model_type + '_bps.csv')\n",
    "    pf_bps = pf_bps.reshape(nfilts, cell_nums[celltype])\n",
    "    best_bps = np.max(pf_bps)\n",
    "    \n",
    "    pf_r2 = restore_performance_checkpt('./SavedResults/filts_' + celltype \\\n",
    "                                                 + '_' + model_type + '_r2.csv')\n",
    "    pf_r2 = pf_r2.reshape(nfilts, cell_nums[celltype])\n",
    "    best_r2 = np.max(pf_r2)\n",
    "     \n",
    "    \n",
    "# define early stopping callback\n",
    "earlystop = EarlyStopping(monitor='val_loss', patience=3, min_delta=.1, verbose=1, mode='auto')\n",
    "callbacks_list = [earlystop]\n",
    "\n",
    "# model type\n",
    "gen_model = {'fc':gen_fc_model, 'rnn':gen_rnn_model, 'cnn':gen_cnn_model}\n",
    "\n",
    "# data format\n",
    "if model_type in ['rnn', 'cnn']: flatten = False;\n",
    "else: flatten = True;\n",
    "\n",
    "H = params[model_type][celltype]['H']\n",
    "L = params[model_type][celltype]['L']\n",
    "\n",
    "i = 0\n",
    "for cell_num in range(cell_nums[celltype]):\n",
    "    j = 0\n",
    "    for nf in ln_fs:\n",
    "        if pf_bps[i,j] == 0.:\n",
    "            print (\"============================================================\")\n",
    "            print (color.BOLD + \"Training Model on Cell \" + str(cell_num+1) + \" of \" + str(cell_nums[celltype])  \\\n",
    "                   + \" with \" + str(nf) + \" Filters\" + color.END) \n",
    "            model = gen_model[model_type](H, L=L, LNP=nf, dim=v1.X_train.shape[-1])\n",
    "\n",
    "            hist = model.fit(v1.X_train, v1.y_train, batch_size=50, epochs=10+L*4,\n",
    "                             verbose=1, callbacks=None, validation_data=(v1.X_val, v1.y_val)) \n",
    "            time.sleep(0.1)\n",
    "\n",
    "            bps,_ = get_bps(model, v1)\n",
    "            _, rsq = r2(model.predict(v1.X_test).reshape(-1,), v1.y_test.reshape(-1,))\n",
    "\n",
    "            if bps > best_bps:\n",
    "                best_bps = bps\n",
    "                print (color.PURPLE + 'saving new bps model...' + color.END)\n",
    "                model.save('SavedModels/filts_' + celltype + '_best_' + model_type + '_bps.h5')\n",
    "\n",
    "            if rsq > best_r2:\n",
    "                best_r2 = rsq\n",
    "                print (color.PURPLE + 'saving new r2 model...' + color.END)\n",
    "                model.save('SavedModels/filts_' + celltype + '_best_' + model_type + '_r2.h5')\n",
    "\n",
    "            pf_bps[i,j,k] = bps\n",
    "            pf_r2[i,j,k] = rsq\n",
    "\n",
    "            if gen_psth:\n",
    "                rpt_preds = model.predict(v1.X_rpt)\n",
    "                model_psth = v1.convert_nn_psth(rpt_preds)\n",
    "\n",
    "                if plot:\n",
    "                    plt.plot(model_psth, label='nn')\n",
    "                    plt.plot(v1.psth, label='repeat')\n",
    "                    plt.legend()\n",
    "                    plt.xlabel('Time (ms)')\n",
    "                    plt.ylabel('Rate (sp/s)')\n",
    "                    plt.show()\n",
    "\n",
    "\n",
    "            print (\"bps: \", bps)\n",
    "            print (\"r2: \", rsq)\n",
    "            print (\" \")\n",
    "\n",
    "\n",
    "        j += 1\n",
    "\n",
    "        print (color.BOLD + 'saving checkpoint...\\n' + color.END)\n",
    "        np.savetxt('./SavedResults/filts_' + celltype + '_' + model_type \\\n",
    "                   + '_bps.csv', performance_bps.reshape(-1,1), delimiter=',')\n",
    "        np.savetxt('./SavedResults/filts_' + celltype + '_' + model_type \\\n",
    "                   + '_r2.csv', performance_r2.reshape(-1,1), delimiter=',')\n"
   ]
  },
  {
   "cell_type": "code",
   "execution_count": 188,
   "metadata": {},
   "outputs": [
    {
     "name": "stdout",
     "output_type": "stream",
     "text": [
      "5\n"
     ]
    }
   ],
   "source": [
    "weights = []\n",
    "for layer in model.layers:\n",
    "    weights.append(layer.get_weights())\n",
    "    \n",
    "print len(weights)"
   ]
  },
  {
   "cell_type": "code",
   "execution_count": 190,
   "metadata": {
    "scrolled": false
   },
   "outputs": [
    {
     "name": "stdout",
     "output_type": "stream",
     "text": [
      "(16,)\n"
     ]
    },
    {
     "data": {
      "image/png": "[encoded data removed]",
      "text/plain": [
       "<matplotlib.figure.Figure at 0x1815893090>"
      ]
     },
     "metadata": {},
     "output_type": "display_data"
    },
    {
     "name": "stdout",
     "output_type": "stream",
     "text": [
      "(16,)\n"
     ]
    },
    {
     "data": {
      "image/png": "[encoded data removed]",
      "text/plain": [
       "<matplotlib.figure.Figure at 0x1815ca2990>"
      ]
     },
     "metadata": {},
     "output_type": "display_data"
    },
    {
     "name": "stdout",
     "output_type": "stream",
     "text": [
      "(16,)\n"
     ]
    },
    {
     "data": {
      "image/png": "[encoded data removed]",
      "text/plain": [
       "<matplotlib.figure.Figure at 0x181c54e110>"
      ]
     },
     "metadata": {},
     "output_type": "display_data"
    },
    {
     "name": "stdout",
     "output_type": "stream",
     "text": [
      "(16,)\n"
     ]
    },
    {
     "data": {
      "image/png": "[encoded data removed]",
      "text/plain": [
       "<matplotlib.figure.Figure at 0x181c3db3d0>"
      ]
     },
     "metadata": {},
     "output_type": "display_data"
    },
    {
     "name": "stdout",
     "output_type": "stream",
     "text": [
      "(16,)\n"
     ]
    },
    {
     "data": {
      "image/png": "[encoded data removed]",
      "text/plain": [
       "<matplotlib.figure.Figure at 0x181c6c36d0>"
      ]
     },
     "metadata": {},
     "output_type": "display_data"
    },
    {
     "name": "stdout",
     "output_type": "stream",
     "text": [
      "(16,)\n"
     ]
    },
    {
     "data": {
      "image/png": "[encoded data removed]",
      "text/plain": [
       "<matplotlib.figure.Figure at 0x181623d2d0>"
      ]
     },
     "metadata": {},
     "output_type": "display_data"
    },
    {
     "name": "stdout",
     "output_type": "stream",
     "text": [
      "(16,)\n"
     ]
    },
    {
     "data": {
      "image/png": "[encoded data removed]",
      "text/plain": [
       "<matplotlib.figure.Figure at 0x1815893b90>"
      ]
     },
     "metadata": {},
     "output_type": "display_data"
    },
    {
     "name": "stdout",
     "output_type": "stream",
     "text": [
      "(16,)\n"
     ]
    },
    {
     "data": {
      "image/png": "[encoded data removed]",
      "text/plain": [
       "<matplotlib.figure.Figure at 0x18150c15d0>"
      ]
     },
     "metadata": {},
     "output_type": "display_data"
    },
    {
     "name": "stdout",
     "output_type": "stream",
     "text": [
      "(16,)\n"
     ]
    },
    {
     "data": {
      "image/png": "[encoded data removed]",
      "text/plain": [
       "<matplotlib.figure.Figure at 0x1814f65750>"
      ]
     },
     "metadata": {},
     "output_type": "display_data"
    },
    {
     "name": "stdout",
     "output_type": "stream",
     "text": [
      "(16,)\n"
     ]
    },
    {
     "data": {
      "image/png": "[encoded data removed]",
      "text/plain": [
       "<matplotlib.figure.Figure at 0x1814d46c90>"
      ]
     },
     "metadata": {},
     "output_type": "display_data"
    }
   ],
   "source": [
    "for i in xrange(10):\n",
    "    wt = weights[0][0][:,i]\n",
    "    wt = np.reshape(wt, (16,-1))\n",
    "    avg = np.mean(wt, axis=1)\n",
    "\n",
    "    plt.imshow(wt)\n",
    "    plt.show()"
   ]
  },
  {
   "cell_type": "code",
   "execution_count": null,
   "metadata": {
    "collapsed": true
   },
   "outputs": [],
   "source": []
  }
 ],
 "metadata": {
  "kernelspec": {
   "display_name": "Python 3",
   "language": "python",
   "name": "python3"
  },
  "language_info": {
   "codemirror_mode": {
    "name": "ipython",
    "version": 3
   },
   "file_extension": ".py",
   "mimetype": "text/x-python",
   "name": "python",
   "nbconvert_exporter": "python",
   "pygments_lexer": "ipython3",
   "version": "3.6.2"
  }
 },
 "nbformat": 4,
 "nbformat_minor": 1
}
